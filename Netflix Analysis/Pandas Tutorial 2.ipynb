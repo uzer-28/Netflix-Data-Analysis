{
 "cells": [
  {
   "cell_type": "code",
   "execution_count": 1,
   "id": "4ec63652-f1a8-4419-bed3-194622d4d000",
   "metadata": {},
   "outputs": [],
   "source": [
    "import numpy as np\n",
    "import pandas as pd"
   ]
  },
  {
   "cell_type": "code",
   "execution_count": 6,
   "id": "17d527a0-8445-4d60-b5f1-ea81e1ec8ea7",
   "metadata": {},
   "outputs": [],
   "source": [
    "df = pd.DataFrame(np.random.rand(335,5))"
   ]
  },
  {
   "cell_type": "code",
   "execution_count": 7,
   "id": "a086e778-b58f-4d0e-bb20-a347e12527f4",
   "metadata": {},
   "outputs": [
    {
     "data": {
      "text/html": [
       "<div>\n",
       "<style scoped>\n",
       "    .dataframe tbody tr th:only-of-type {\n",
       "        vertical-align: middle;\n",
       "    }\n",
       "\n",
       "    .dataframe tbody tr th {\n",
       "        vertical-align: top;\n",
       "    }\n",
       "\n",
       "    .dataframe thead th {\n",
       "        text-align: right;\n",
       "    }\n",
       "</style>\n",
       "<table border=\"1\" class=\"dataframe\">\n",
       "  <thead>\n",
       "    <tr style=\"text-align: right;\">\n",
       "      <th></th>\n",
       "      <th>0</th>\n",
       "      <th>1</th>\n",
       "      <th>2</th>\n",
       "      <th>3</th>\n",
       "      <th>4</th>\n",
       "    </tr>\n",
       "  </thead>\n",
       "  <tbody>\n",
       "    <tr>\n",
       "      <th>0</th>\n",
       "      <td>0.470772</td>\n",
       "      <td>0.249239</td>\n",
       "      <td>0.210232</td>\n",
       "      <td>0.705268</td>\n",
       "      <td>0.585135</td>\n",
       "    </tr>\n",
       "    <tr>\n",
       "      <th>1</th>\n",
       "      <td>0.533156</td>\n",
       "      <td>0.933199</td>\n",
       "      <td>0.552222</td>\n",
       "      <td>0.744861</td>\n",
       "      <td>0.227263</td>\n",
       "    </tr>\n",
       "    <tr>\n",
       "      <th>2</th>\n",
       "      <td>0.179324</td>\n",
       "      <td>0.419793</td>\n",
       "      <td>0.618058</td>\n",
       "      <td>0.959727</td>\n",
       "      <td>0.667112</td>\n",
       "    </tr>\n",
       "    <tr>\n",
       "      <th>3</th>\n",
       "      <td>0.898675</td>\n",
       "      <td>0.160934</td>\n",
       "      <td>0.245006</td>\n",
       "      <td>0.538150</td>\n",
       "      <td>0.240019</td>\n",
       "    </tr>\n",
       "    <tr>\n",
       "      <th>4</th>\n",
       "      <td>0.769776</td>\n",
       "      <td>0.194763</td>\n",
       "      <td>0.779606</td>\n",
       "      <td>0.300935</td>\n",
       "      <td>0.284339</td>\n",
       "    </tr>\n",
       "    <tr>\n",
       "      <th>...</th>\n",
       "      <td>...</td>\n",
       "      <td>...</td>\n",
       "      <td>...</td>\n",
       "      <td>...</td>\n",
       "      <td>...</td>\n",
       "    </tr>\n",
       "    <tr>\n",
       "      <th>330</th>\n",
       "      <td>0.417969</td>\n",
       "      <td>0.557649</td>\n",
       "      <td>0.651348</td>\n",
       "      <td>0.749245</td>\n",
       "      <td>0.677820</td>\n",
       "    </tr>\n",
       "    <tr>\n",
       "      <th>331</th>\n",
       "      <td>0.029971</td>\n",
       "      <td>0.659181</td>\n",
       "      <td>0.707935</td>\n",
       "      <td>0.523440</td>\n",
       "      <td>0.486447</td>\n",
       "    </tr>\n",
       "    <tr>\n",
       "      <th>332</th>\n",
       "      <td>0.405907</td>\n",
       "      <td>0.973064</td>\n",
       "      <td>0.912357</td>\n",
       "      <td>0.027224</td>\n",
       "      <td>0.767961</td>\n",
       "    </tr>\n",
       "    <tr>\n",
       "      <th>333</th>\n",
       "      <td>0.285228</td>\n",
       "      <td>0.715706</td>\n",
       "      <td>0.667353</td>\n",
       "      <td>0.810588</td>\n",
       "      <td>0.326163</td>\n",
       "    </tr>\n",
       "    <tr>\n",
       "      <th>334</th>\n",
       "      <td>0.487511</td>\n",
       "      <td>0.413026</td>\n",
       "      <td>0.327319</td>\n",
       "      <td>0.082499</td>\n",
       "      <td>0.525288</td>\n",
       "    </tr>\n",
       "  </tbody>\n",
       "</table>\n",
       "<p>335 rows × 5 columns</p>\n",
       "</div>"
      ],
      "text/plain": [
       "            0         1         2         3         4\n",
       "0    0.470772  0.249239  0.210232  0.705268  0.585135\n",
       "1    0.533156  0.933199  0.552222  0.744861  0.227263\n",
       "2    0.179324  0.419793  0.618058  0.959727  0.667112\n",
       "3    0.898675  0.160934  0.245006  0.538150  0.240019\n",
       "4    0.769776  0.194763  0.779606  0.300935  0.284339\n",
       "..        ...       ...       ...       ...       ...\n",
       "330  0.417969  0.557649  0.651348  0.749245  0.677820\n",
       "331  0.029971  0.659181  0.707935  0.523440  0.486447\n",
       "332  0.405907  0.973064  0.912357  0.027224  0.767961\n",
       "333  0.285228  0.715706  0.667353  0.810588  0.326163\n",
       "334  0.487511  0.413026  0.327319  0.082499  0.525288\n",
       "\n",
       "[335 rows x 5 columns]"
      ]
     },
     "execution_count": 7,
     "metadata": {},
     "output_type": "execute_result"
    }
   ],
   "source": [
    "df"
   ]
  },
  {
   "cell_type": "code",
   "execution_count": 12,
   "id": "e5ae2732-2b70-4cd3-b003-85834a6c5478",
   "metadata": {},
   "outputs": [
    {
     "data": {
      "text/html": [
       "<div>\n",
       "<style scoped>\n",
       "    .dataframe tbody tr th:only-of-type {\n",
       "        vertical-align: middle;\n",
       "    }\n",
       "\n",
       "    .dataframe tbody tr th {\n",
       "        vertical-align: top;\n",
       "    }\n",
       "\n",
       "    .dataframe thead th {\n",
       "        text-align: right;\n",
       "    }\n",
       "</style>\n",
       "<table border=\"1\" class=\"dataframe\">\n",
       "  <thead>\n",
       "    <tr style=\"text-align: right;\">\n",
       "      <th></th>\n",
       "      <th>0</th>\n",
       "      <th>1</th>\n",
       "      <th>2</th>\n",
       "      <th>3</th>\n",
       "      <th>4</th>\n",
       "    </tr>\n",
       "  </thead>\n",
       "  <tbody>\n",
       "    <tr>\n",
       "      <th>0</th>\n",
       "      <td>0.470772</td>\n",
       "      <td>0.249239</td>\n",
       "      <td>0.210232</td>\n",
       "      <td>0.705268</td>\n",
       "      <td>0.585135</td>\n",
       "    </tr>\n",
       "    <tr>\n",
       "      <th>1</th>\n",
       "      <td>0.533156</td>\n",
       "      <td>0.933199</td>\n",
       "      <td>0.552222</td>\n",
       "      <td>0.744861</td>\n",
       "      <td>0.227263</td>\n",
       "    </tr>\n",
       "    <tr>\n",
       "      <th>2</th>\n",
       "      <td>0.179324</td>\n",
       "      <td>0.419793</td>\n",
       "      <td>0.618058</td>\n",
       "      <td>0.959727</td>\n",
       "      <td>0.667112</td>\n",
       "    </tr>\n",
       "    <tr>\n",
       "      <th>3</th>\n",
       "      <td>0.898675</td>\n",
       "      <td>0.160934</td>\n",
       "      <td>0.245006</td>\n",
       "      <td>0.538150</td>\n",
       "      <td>0.240019</td>\n",
       "    </tr>\n",
       "    <tr>\n",
       "      <th>4</th>\n",
       "      <td>0.769776</td>\n",
       "      <td>0.194763</td>\n",
       "      <td>0.779606</td>\n",
       "      <td>0.300935</td>\n",
       "      <td>0.284339</td>\n",
       "    </tr>\n",
       "    <tr>\n",
       "      <th>5</th>\n",
       "      <td>0.502597</td>\n",
       "      <td>0.375512</td>\n",
       "      <td>0.251439</td>\n",
       "      <td>0.864990</td>\n",
       "      <td>0.916767</td>\n",
       "    </tr>\n",
       "    <tr>\n",
       "      <th>6</th>\n",
       "      <td>0.810259</td>\n",
       "      <td>0.412173</td>\n",
       "      <td>0.578443</td>\n",
       "      <td>0.061936</td>\n",
       "      <td>0.838435</td>\n",
       "    </tr>\n",
       "    <tr>\n",
       "      <th>7</th>\n",
       "      <td>0.724307</td>\n",
       "      <td>0.806065</td>\n",
       "      <td>0.076488</td>\n",
       "      <td>0.339647</td>\n",
       "      <td>0.030609</td>\n",
       "    </tr>\n",
       "    <tr>\n",
       "      <th>8</th>\n",
       "      <td>0.227709</td>\n",
       "      <td>0.567885</td>\n",
       "      <td>0.384204</td>\n",
       "      <td>0.510095</td>\n",
       "      <td>0.456513</td>\n",
       "    </tr>\n",
       "    <tr>\n",
       "      <th>9</th>\n",
       "      <td>0.595865</td>\n",
       "      <td>0.588487</td>\n",
       "      <td>0.346390</td>\n",
       "      <td>0.469092</td>\n",
       "      <td>0.523229</td>\n",
       "    </tr>\n",
       "  </tbody>\n",
       "</table>\n",
       "</div>"
      ],
      "text/plain": [
       "          0         1         2         3         4\n",
       "0  0.470772  0.249239  0.210232  0.705268  0.585135\n",
       "1  0.533156  0.933199  0.552222  0.744861  0.227263\n",
       "2  0.179324  0.419793  0.618058  0.959727  0.667112\n",
       "3  0.898675  0.160934  0.245006  0.538150  0.240019\n",
       "4  0.769776  0.194763  0.779606  0.300935  0.284339\n",
       "5  0.502597  0.375512  0.251439  0.864990  0.916767\n",
       "6  0.810259  0.412173  0.578443  0.061936  0.838435\n",
       "7  0.724307  0.806065  0.076488  0.339647  0.030609\n",
       "8  0.227709  0.567885  0.384204  0.510095  0.456513\n",
       "9  0.595865  0.588487  0.346390  0.469092  0.523229"
      ]
     },
     "execution_count": 12,
     "metadata": {},
     "output_type": "execute_result"
    }
   ],
   "source": [
    "df.head(10)"
   ]
  },
  {
   "cell_type": "code",
   "execution_count": 13,
   "id": "388f5930-ef69-4d8b-aec7-ddbe7bcd6ecc",
   "metadata": {},
   "outputs": [
    {
     "data": {
      "text/plain": [
       "0    float64\n",
       "1    float64\n",
       "2    float64\n",
       "3    float64\n",
       "4    float64\n",
       "dtype: object"
      ]
     },
     "execution_count": 13,
     "metadata": {},
     "output_type": "execute_result"
    }
   ],
   "source": [
    "df.dtypes"
   ]
  },
  {
   "cell_type": "code",
   "execution_count": 16,
   "id": "526042ab-ae9d-45de-8170-faf1e19bb98c",
   "metadata": {},
   "outputs": [
    {
     "name": "stderr",
     "output_type": "stream",
     "text": [
      "C:\\Users\\Uzer\\AppData\\Local\\Temp\\ipykernel_10600\\3349648398.py:1: FutureWarning: ChainedAssignmentError: behaviour will change in pandas 3.0!\n",
      "You are setting values through chained assignment. Currently this works in certain cases, but when using Copy-on-Write (which will become the default behaviour in pandas 3.0) this will never work to update the original DataFrame or Series, because the intermediate object on which we are setting values will behave as a copy.\n",
      "A typical example is when you are setting values in a column of a DataFrame, like:\n",
      "\n",
      "df[\"col\"][row_indexer] = value\n",
      "\n",
      "Use `df.loc[row_indexer, \"col\"] = values` instead, to perform the assignment in a single step and ensure this keeps updating the original `df`.\n",
      "\n",
      "See the caveats in the documentation: https://pandas.pydata.org/pandas-docs/stable/user_guide/indexing.html#returning-a-view-versus-a-copy\n",
      "\n",
      "  df[0][0] = 'Uzair'\n",
      "C:\\Users\\Uzer\\AppData\\Local\\Temp\\ipykernel_10600\\3349648398.py:1: FutureWarning: Setting an item of incompatible dtype is deprecated and will raise an error in a future version of pandas. Value 'Uzair' has dtype incompatible with float64, please explicitly cast to a compatible dtype first.\n",
      "  df[0][0] = 'Uzair'\n"
     ]
    }
   ],
   "source": [
    "df[0][0] = 'Uzair'"
   ]
  },
  {
   "cell_type": "code",
   "execution_count": 17,
   "id": "06723535-5091-4570-a09d-92464ae14e3b",
   "metadata": {},
   "outputs": [
    {
     "data": {
      "text/html": [
       "<div>\n",
       "<style scoped>\n",
       "    .dataframe tbody tr th:only-of-type {\n",
       "        vertical-align: middle;\n",
       "    }\n",
       "\n",
       "    .dataframe tbody tr th {\n",
       "        vertical-align: top;\n",
       "    }\n",
       "\n",
       "    .dataframe thead th {\n",
       "        text-align: right;\n",
       "    }\n",
       "</style>\n",
       "<table border=\"1\" class=\"dataframe\">\n",
       "  <thead>\n",
       "    <tr style=\"text-align: right;\">\n",
       "      <th></th>\n",
       "      <th>0</th>\n",
       "      <th>1</th>\n",
       "      <th>2</th>\n",
       "      <th>3</th>\n",
       "      <th>4</th>\n",
       "    </tr>\n",
       "  </thead>\n",
       "  <tbody>\n",
       "    <tr>\n",
       "      <th>0</th>\n",
       "      <td>Uzair</td>\n",
       "      <td>0.249239</td>\n",
       "      <td>0.210232</td>\n",
       "      <td>0.705268</td>\n",
       "      <td>0.585135</td>\n",
       "    </tr>\n",
       "    <tr>\n",
       "      <th>1</th>\n",
       "      <td>0.533156</td>\n",
       "      <td>0.933199</td>\n",
       "      <td>0.552222</td>\n",
       "      <td>0.744861</td>\n",
       "      <td>0.227263</td>\n",
       "    </tr>\n",
       "    <tr>\n",
       "      <th>2</th>\n",
       "      <td>0.179324</td>\n",
       "      <td>0.419793</td>\n",
       "      <td>0.618058</td>\n",
       "      <td>0.959727</td>\n",
       "      <td>0.667112</td>\n",
       "    </tr>\n",
       "    <tr>\n",
       "      <th>3</th>\n",
       "      <td>0.898675</td>\n",
       "      <td>0.160934</td>\n",
       "      <td>0.245006</td>\n",
       "      <td>0.538150</td>\n",
       "      <td>0.240019</td>\n",
       "    </tr>\n",
       "    <tr>\n",
       "      <th>4</th>\n",
       "      <td>0.769776</td>\n",
       "      <td>0.194763</td>\n",
       "      <td>0.779606</td>\n",
       "      <td>0.300935</td>\n",
       "      <td>0.284339</td>\n",
       "    </tr>\n",
       "  </tbody>\n",
       "</table>\n",
       "</div>"
      ],
      "text/plain": [
       "          0         1         2         3         4\n",
       "0     Uzair  0.249239  0.210232  0.705268  0.585135\n",
       "1  0.533156  0.933199  0.552222  0.744861  0.227263\n",
       "2  0.179324  0.419793  0.618058  0.959727  0.667112\n",
       "3  0.898675  0.160934  0.245006  0.538150  0.240019\n",
       "4  0.769776  0.194763  0.779606  0.300935  0.284339"
      ]
     },
     "execution_count": 17,
     "metadata": {},
     "output_type": "execute_result"
    }
   ],
   "source": [
    "df.head()"
   ]
  },
  {
   "cell_type": "code",
   "execution_count": 18,
   "id": "0e03da37-1c7d-4707-9eb0-d6c2f6471fb4",
   "metadata": {},
   "outputs": [
    {
     "data": {
      "text/plain": [
       "0     object\n",
       "1    float64\n",
       "2    float64\n",
       "3    float64\n",
       "4    float64\n",
       "dtype: object"
      ]
     },
     "execution_count": 18,
     "metadata": {},
     "output_type": "execute_result"
    }
   ],
   "source": [
    "df.dtypes"
   ]
  },
  {
   "cell_type": "code",
   "execution_count": 20,
   "id": "5cf3a6e6-22d6-4af3-b859-71b846ed35dc",
   "metadata": {},
   "outputs": [
    {
     "data": {
      "text/plain": [
       "numpy.float64"
      ]
     },
     "execution_count": 20,
     "metadata": {},
     "output_type": "execute_result"
    }
   ],
   "source": [
    "type(df[1][1])"
   ]
  },
  {
   "cell_type": "code",
   "execution_count": 27,
   "id": "2d1d84be-ad26-4926-8c01-d21bff7a99d9",
   "metadata": {},
   "outputs": [
    {
     "data": {
      "text/plain": [
       "dtype('float64')"
      ]
     },
     "execution_count": 27,
     "metadata": {},
     "output_type": "execute_result"
    }
   ],
   "source": [
    "np.dtype(df[1])"
   ]
  },
  {
   "cell_type": "code",
   "execution_count": 30,
   "id": "b6bce104-48c6-4091-b8e2-58f020fd2a05",
   "metadata": {},
   "outputs": [],
   "source": [
    "npy = df.to_numpy()"
   ]
  },
  {
   "cell_type": "code",
   "execution_count": 31,
   "id": "81f73341-7259-4391-a231-9212a3b60b91",
   "metadata": {},
   "outputs": [
    {
     "data": {
      "text/plain": [
       "array([['Uzair', 0.24923916690144443, 0.21023239903327495,\n",
       "        0.7052675907088347, 0.5851354012548551],\n",
       "       [0.533156338055643, 0.9331991188046839, 0.5522221960535585,\n",
       "        0.7448609206014852, 0.2272625426669006],\n",
       "       [0.17932369078949317, 0.4197927494038559, 0.6180579294926498,\n",
       "        0.9597266207314845, 0.6671123688722985],\n",
       "       ...,\n",
       "       [0.40590682520559784, 0.9730635049699348, 0.9123569585600079,\n",
       "        0.0272242266271695, 0.7679605264437263],\n",
       "       [0.2852277429039005, 0.7157057927072795, 0.6673527811473527,\n",
       "        0.8105882552194231, 0.32616256014255485],\n",
       "       [0.4875110019688219, 0.41302567565008874, 0.3273186087255736,\n",
       "        0.08249852531763169, 0.5252882671794804]],\n",
       "      shape=(335, 5), dtype=object)"
      ]
     },
     "execution_count": 31,
     "metadata": {},
     "output_type": "execute_result"
    }
   ],
   "source": [
    "npy"
   ]
  },
  {
   "cell_type": "code",
   "execution_count": 32,
   "id": "edc79b5b-9cee-4f38-9365-8bcd8b151569",
   "metadata": {},
   "outputs": [
    {
     "data": {
      "text/plain": [
       "(335, 5)"
      ]
     },
     "execution_count": 32,
     "metadata": {},
     "output_type": "execute_result"
    }
   ],
   "source": [
    "npy.shape"
   ]
  },
  {
   "cell_type": "code",
   "execution_count": 36,
   "id": "54c4a415-e75e-4637-a42e-647f552d3a6b",
   "metadata": {},
   "outputs": [
    {
     "data": {
      "text/plain": [
       "0.6954569203044028"
      ]
     },
     "execution_count": 36,
     "metadata": {},
     "output_type": "execute_result"
    }
   ],
   "source": [
    "npy.ravel()[123]"
   ]
  },
  {
   "cell_type": "code",
   "execution_count": 38,
   "id": "71027c47-e898-44ce-82dc-349458277898",
   "metadata": {},
   "outputs": [],
   "source": [
    "df.columns = list('ABCDE')"
   ]
  },
  {
   "cell_type": "code",
   "execution_count": 40,
   "id": "7a745fbe-2423-49ed-a6d3-16e45809fe47",
   "metadata": {},
   "outputs": [
    {
     "data": {
      "text/html": [
       "<div>\n",
       "<style scoped>\n",
       "    .dataframe tbody tr th:only-of-type {\n",
       "        vertical-align: middle;\n",
       "    }\n",
       "\n",
       "    .dataframe tbody tr th {\n",
       "        vertical-align: top;\n",
       "    }\n",
       "\n",
       "    .dataframe thead th {\n",
       "        text-align: right;\n",
       "    }\n",
       "</style>\n",
       "<table border=\"1\" class=\"dataframe\">\n",
       "  <thead>\n",
       "    <tr style=\"text-align: right;\">\n",
       "      <th></th>\n",
       "      <th>A</th>\n",
       "      <th>B</th>\n",
       "      <th>C</th>\n",
       "      <th>D</th>\n",
       "      <th>E</th>\n",
       "    </tr>\n",
       "  </thead>\n",
       "  <tbody>\n",
       "    <tr>\n",
       "      <th>0</th>\n",
       "      <td>Uzair</td>\n",
       "      <td>0.249239</td>\n",
       "      <td>0.210232</td>\n",
       "      <td>0.705268</td>\n",
       "      <td>0.585135</td>\n",
       "    </tr>\n",
       "    <tr>\n",
       "      <th>1</th>\n",
       "      <td>0.533156</td>\n",
       "      <td>0.933199</td>\n",
       "      <td>0.552222</td>\n",
       "      <td>0.744861</td>\n",
       "      <td>0.227263</td>\n",
       "    </tr>\n",
       "    <tr>\n",
       "      <th>2</th>\n",
       "      <td>0.179324</td>\n",
       "      <td>0.419793</td>\n",
       "      <td>0.618058</td>\n",
       "      <td>0.959727</td>\n",
       "      <td>0.667112</td>\n",
       "    </tr>\n",
       "    <tr>\n",
       "      <th>3</th>\n",
       "      <td>0.898675</td>\n",
       "      <td>0.160934</td>\n",
       "      <td>0.245006</td>\n",
       "      <td>0.538150</td>\n",
       "      <td>0.240019</td>\n",
       "    </tr>\n",
       "    <tr>\n",
       "      <th>4</th>\n",
       "      <td>0.769776</td>\n",
       "      <td>0.194763</td>\n",
       "      <td>0.779606</td>\n",
       "      <td>0.300935</td>\n",
       "      <td>0.284339</td>\n",
       "    </tr>\n",
       "  </tbody>\n",
       "</table>\n",
       "</div>"
      ],
      "text/plain": [
       "          A         B         C         D         E\n",
       "0     Uzair  0.249239  0.210232  0.705268  0.585135\n",
       "1  0.533156  0.933199  0.552222  0.744861  0.227263\n",
       "2  0.179324  0.419793  0.618058  0.959727  0.667112\n",
       "3  0.898675  0.160934  0.245006  0.538150  0.240019\n",
       "4  0.769776  0.194763  0.779606  0.300935  0.284339"
      ]
     },
     "execution_count": 40,
     "metadata": {},
     "output_type": "execute_result"
    }
   ],
   "source": [
    "df.head()"
   ]
  },
  {
   "cell_type": "code",
   "execution_count": 41,
   "id": "dcbdbd75-4d06-426c-82a3-8b08061fd420",
   "metadata": {},
   "outputs": [],
   "source": [
    "df.loc[0,0] = 123"
   ]
  },
  {
   "cell_type": "code",
   "execution_count": 46,
   "id": "3269930f-8d4a-484f-ac94-7d4fe9cd175d",
   "metadata": {},
   "outputs": [
    {
     "data": {
      "text/html": [
       "<div>\n",
       "<style scoped>\n",
       "    .dataframe tbody tr th:only-of-type {\n",
       "        vertical-align: middle;\n",
       "    }\n",
       "\n",
       "    .dataframe tbody tr th {\n",
       "        vertical-align: top;\n",
       "    }\n",
       "\n",
       "    .dataframe thead th {\n",
       "        text-align: right;\n",
       "    }\n",
       "</style>\n",
       "<table border=\"1\" class=\"dataframe\">\n",
       "  <thead>\n",
       "    <tr style=\"text-align: right;\">\n",
       "      <th></th>\n",
       "      <th>A</th>\n",
       "      <th>B</th>\n",
       "      <th>C</th>\n",
       "      <th>D</th>\n",
       "      <th>E</th>\n",
       "      <th>0</th>\n",
       "    </tr>\n",
       "  </thead>\n",
       "  <tbody>\n",
       "    <tr>\n",
       "      <th>0</th>\n",
       "      <td>2563</td>\n",
       "      <td>0.249239</td>\n",
       "      <td>0.210232</td>\n",
       "      <td>0.705268</td>\n",
       "      <td>0.585135</td>\n",
       "      <td>123.0</td>\n",
       "    </tr>\n",
       "    <tr>\n",
       "      <th>1</th>\n",
       "      <td>0.533156</td>\n",
       "      <td>0.933199</td>\n",
       "      <td>0.552222</td>\n",
       "      <td>0.744861</td>\n",
       "      <td>0.227263</td>\n",
       "      <td>NaN</td>\n",
       "    </tr>\n",
       "    <tr>\n",
       "      <th>2</th>\n",
       "      <td>0.179324</td>\n",
       "      <td>0.419793</td>\n",
       "      <td>0.618058</td>\n",
       "      <td>0.959727</td>\n",
       "      <td>0.667112</td>\n",
       "      <td>NaN</td>\n",
       "    </tr>\n",
       "    <tr>\n",
       "      <th>3</th>\n",
       "      <td>0.898675</td>\n",
       "      <td>0.160934</td>\n",
       "      <td>0.245006</td>\n",
       "      <td>0.538150</td>\n",
       "      <td>0.240019</td>\n",
       "      <td>NaN</td>\n",
       "    </tr>\n",
       "    <tr>\n",
       "      <th>4</th>\n",
       "      <td>0.769776</td>\n",
       "      <td>0.194763</td>\n",
       "      <td>0.779606</td>\n",
       "      <td>0.300935</td>\n",
       "      <td>0.284339</td>\n",
       "      <td>NaN</td>\n",
       "    </tr>\n",
       "  </tbody>\n",
       "</table>\n",
       "</div>"
      ],
      "text/plain": [
       "          A         B         C         D         E      0\n",
       "0      2563  0.249239  0.210232  0.705268  0.585135  123.0\n",
       "1  0.533156  0.933199  0.552222  0.744861  0.227263    NaN\n",
       "2  0.179324  0.419793  0.618058  0.959727  0.667112    NaN\n",
       "3  0.898675  0.160934  0.245006  0.538150  0.240019    NaN\n",
       "4  0.769776  0.194763  0.779606  0.300935  0.284339    NaN"
      ]
     },
     "execution_count": 46,
     "metadata": {},
     "output_type": "execute_result"
    }
   ],
   "source": [
    "df.head()"
   ]
  },
  {
   "cell_type": "code",
   "execution_count": 47,
   "id": "642d842c-f00e-4659-ae09-5e17d7349caa",
   "metadata": {},
   "outputs": [],
   "source": [
    "df.loc[0,'A'] = 2563"
   ]
  },
  {
   "cell_type": "code",
   "execution_count": 48,
   "id": "cfe1ad33-51a1-4292-bca7-4ccebe1f4beb",
   "metadata": {},
   "outputs": [
    {
     "data": {
      "text/html": [
       "<div>\n",
       "<style scoped>\n",
       "    .dataframe tbody tr th:only-of-type {\n",
       "        vertical-align: middle;\n",
       "    }\n",
       "\n",
       "    .dataframe tbody tr th {\n",
       "        vertical-align: top;\n",
       "    }\n",
       "\n",
       "    .dataframe thead th {\n",
       "        text-align: right;\n",
       "    }\n",
       "</style>\n",
       "<table border=\"1\" class=\"dataframe\">\n",
       "  <thead>\n",
       "    <tr style=\"text-align: right;\">\n",
       "      <th></th>\n",
       "      <th>A</th>\n",
       "      <th>B</th>\n",
       "      <th>C</th>\n",
       "      <th>D</th>\n",
       "      <th>E</th>\n",
       "      <th>0</th>\n",
       "    </tr>\n",
       "  </thead>\n",
       "  <tbody>\n",
       "    <tr>\n",
       "      <th>0</th>\n",
       "      <td>2563</td>\n",
       "      <td>0.249239</td>\n",
       "      <td>0.210232</td>\n",
       "      <td>0.705268</td>\n",
       "      <td>0.585135</td>\n",
       "      <td>123.0</td>\n",
       "    </tr>\n",
       "    <tr>\n",
       "      <th>1</th>\n",
       "      <td>0.533156</td>\n",
       "      <td>0.933199</td>\n",
       "      <td>0.552222</td>\n",
       "      <td>0.744861</td>\n",
       "      <td>0.227263</td>\n",
       "      <td>NaN</td>\n",
       "    </tr>\n",
       "    <tr>\n",
       "      <th>2</th>\n",
       "      <td>0.179324</td>\n",
       "      <td>0.419793</td>\n",
       "      <td>0.618058</td>\n",
       "      <td>0.959727</td>\n",
       "      <td>0.667112</td>\n",
       "      <td>NaN</td>\n",
       "    </tr>\n",
       "    <tr>\n",
       "      <th>3</th>\n",
       "      <td>0.898675</td>\n",
       "      <td>0.160934</td>\n",
       "      <td>0.245006</td>\n",
       "      <td>0.538150</td>\n",
       "      <td>0.240019</td>\n",
       "      <td>NaN</td>\n",
       "    </tr>\n",
       "    <tr>\n",
       "      <th>4</th>\n",
       "      <td>0.769776</td>\n",
       "      <td>0.194763</td>\n",
       "      <td>0.779606</td>\n",
       "      <td>0.300935</td>\n",
       "      <td>0.284339</td>\n",
       "      <td>NaN</td>\n",
       "    </tr>\n",
       "  </tbody>\n",
       "</table>\n",
       "</div>"
      ],
      "text/plain": [
       "          A         B         C         D         E      0\n",
       "0      2563  0.249239  0.210232  0.705268  0.585135  123.0\n",
       "1  0.533156  0.933199  0.552222  0.744861  0.227263    NaN\n",
       "2  0.179324  0.419793  0.618058  0.959727  0.667112    NaN\n",
       "3  0.898675  0.160934  0.245006  0.538150  0.240019    NaN\n",
       "4  0.769776  0.194763  0.779606  0.300935  0.284339    NaN"
      ]
     },
     "execution_count": 48,
     "metadata": {},
     "output_type": "execute_result"
    }
   ],
   "source": [
    "df.head()"
   ]
  },
  {
   "cell_type": "code",
   "execution_count": 51,
   "id": "583900b6-8bc0-4cd9-9adb-0cbe405dec87",
   "metadata": {},
   "outputs": [],
   "source": [
    "df = df.drop(0, axis=1)"
   ]
  },
  {
   "cell_type": "code",
   "execution_count": 53,
   "id": "b6e7dcaa-6607-4ee9-8c44-a8cb87183bb0",
   "metadata": {},
   "outputs": [
    {
     "data": {
      "text/html": [
       "<div>\n",
       "<style scoped>\n",
       "    .dataframe tbody tr th:only-of-type {\n",
       "        vertical-align: middle;\n",
       "    }\n",
       "\n",
       "    .dataframe tbody tr th {\n",
       "        vertical-align: top;\n",
       "    }\n",
       "\n",
       "    .dataframe thead th {\n",
       "        text-align: right;\n",
       "    }\n",
       "</style>\n",
       "<table border=\"1\" class=\"dataframe\">\n",
       "  <thead>\n",
       "    <tr style=\"text-align: right;\">\n",
       "      <th></th>\n",
       "      <th>A</th>\n",
       "      <th>B</th>\n",
       "      <th>C</th>\n",
       "      <th>D</th>\n",
       "      <th>E</th>\n",
       "    </tr>\n",
       "  </thead>\n",
       "  <tbody>\n",
       "    <tr>\n",
       "      <th>0</th>\n",
       "      <td>2563</td>\n",
       "      <td>0.249239</td>\n",
       "      <td>0.210232</td>\n",
       "      <td>0.705268</td>\n",
       "      <td>0.585135</td>\n",
       "    </tr>\n",
       "    <tr>\n",
       "      <th>1</th>\n",
       "      <td>0.533156</td>\n",
       "      <td>0.933199</td>\n",
       "      <td>0.552222</td>\n",
       "      <td>0.744861</td>\n",
       "      <td>0.227263</td>\n",
       "    </tr>\n",
       "    <tr>\n",
       "      <th>2</th>\n",
       "      <td>0.179324</td>\n",
       "      <td>0.419793</td>\n",
       "      <td>0.618058</td>\n",
       "      <td>0.959727</td>\n",
       "      <td>0.667112</td>\n",
       "    </tr>\n",
       "    <tr>\n",
       "      <th>3</th>\n",
       "      <td>0.898675</td>\n",
       "      <td>0.160934</td>\n",
       "      <td>0.245006</td>\n",
       "      <td>0.538150</td>\n",
       "      <td>0.240019</td>\n",
       "    </tr>\n",
       "    <tr>\n",
       "      <th>4</th>\n",
       "      <td>0.769776</td>\n",
       "      <td>0.194763</td>\n",
       "      <td>0.779606</td>\n",
       "      <td>0.300935</td>\n",
       "      <td>0.284339</td>\n",
       "    </tr>\n",
       "  </tbody>\n",
       "</table>\n",
       "</div>"
      ],
      "text/plain": [
       "          A         B         C         D         E\n",
       "0      2563  0.249239  0.210232  0.705268  0.585135\n",
       "1  0.533156  0.933199  0.552222  0.744861  0.227263\n",
       "2  0.179324  0.419793  0.618058  0.959727  0.667112\n",
       "3  0.898675  0.160934  0.245006  0.538150  0.240019\n",
       "4  0.769776  0.194763  0.779606  0.300935  0.284339"
      ]
     },
     "execution_count": 53,
     "metadata": {},
     "output_type": "execute_result"
    }
   ],
   "source": [
    "df.head()"
   ]
  },
  {
   "cell_type": "code",
   "execution_count": 54,
   "id": "eca96073-20dc-4bfe-b108-e7187915c7e0",
   "metadata": {},
   "outputs": [],
   "source": [
    "df.loc[1,1] = 'uzair'"
   ]
  },
  {
   "cell_type": "code",
   "execution_count": 55,
   "id": "7116e260-42ec-4be0-b219-e2ec4de29d2b",
   "metadata": {},
   "outputs": [
    {
     "data": {
      "text/html": [
       "<div>\n",
       "<style scoped>\n",
       "    .dataframe tbody tr th:only-of-type {\n",
       "        vertical-align: middle;\n",
       "    }\n",
       "\n",
       "    .dataframe tbody tr th {\n",
       "        vertical-align: top;\n",
       "    }\n",
       "\n",
       "    .dataframe thead th {\n",
       "        text-align: right;\n",
       "    }\n",
       "</style>\n",
       "<table border=\"1\" class=\"dataframe\">\n",
       "  <thead>\n",
       "    <tr style=\"text-align: right;\">\n",
       "      <th></th>\n",
       "      <th>A</th>\n",
       "      <th>B</th>\n",
       "      <th>C</th>\n",
       "      <th>D</th>\n",
       "      <th>E</th>\n",
       "      <th>1</th>\n",
       "    </tr>\n",
       "  </thead>\n",
       "  <tbody>\n",
       "    <tr>\n",
       "      <th>0</th>\n",
       "      <td>2563</td>\n",
       "      <td>0.249239</td>\n",
       "      <td>0.210232</td>\n",
       "      <td>0.705268</td>\n",
       "      <td>0.585135</td>\n",
       "      <td>NaN</td>\n",
       "    </tr>\n",
       "    <tr>\n",
       "      <th>1</th>\n",
       "      <td>0.533156</td>\n",
       "      <td>0.933199</td>\n",
       "      <td>0.552222</td>\n",
       "      <td>0.744861</td>\n",
       "      <td>0.227263</td>\n",
       "      <td>uzair</td>\n",
       "    </tr>\n",
       "    <tr>\n",
       "      <th>2</th>\n",
       "      <td>0.179324</td>\n",
       "      <td>0.419793</td>\n",
       "      <td>0.618058</td>\n",
       "      <td>0.959727</td>\n",
       "      <td>0.667112</td>\n",
       "      <td>NaN</td>\n",
       "    </tr>\n",
       "    <tr>\n",
       "      <th>3</th>\n",
       "      <td>0.898675</td>\n",
       "      <td>0.160934</td>\n",
       "      <td>0.245006</td>\n",
       "      <td>0.538150</td>\n",
       "      <td>0.240019</td>\n",
       "      <td>NaN</td>\n",
       "    </tr>\n",
       "    <tr>\n",
       "      <th>4</th>\n",
       "      <td>0.769776</td>\n",
       "      <td>0.194763</td>\n",
       "      <td>0.779606</td>\n",
       "      <td>0.300935</td>\n",
       "      <td>0.284339</td>\n",
       "      <td>NaN</td>\n",
       "    </tr>\n",
       "  </tbody>\n",
       "</table>\n",
       "</div>"
      ],
      "text/plain": [
       "          A         B         C         D         E      1\n",
       "0      2563  0.249239  0.210232  0.705268  0.585135    NaN\n",
       "1  0.533156  0.933199  0.552222  0.744861  0.227263  uzair\n",
       "2  0.179324  0.419793  0.618058  0.959727  0.667112    NaN\n",
       "3  0.898675  0.160934  0.245006  0.538150  0.240019    NaN\n",
       "4  0.769776  0.194763  0.779606  0.300935  0.284339    NaN"
      ]
     },
     "execution_count": 55,
     "metadata": {},
     "output_type": "execute_result"
    }
   ],
   "source": [
    "df.head()"
   ]
  },
  {
   "cell_type": "code",
   "execution_count": 56,
   "id": "759cffa2-ba9c-483d-9079-bca175295f9d",
   "metadata": {},
   "outputs": [],
   "source": [
    "df.loc[2,3] = 0123.23"
   ]
  },
  {
   "cell_type": "code",
   "execution_count": 57,
   "id": "1c74b445-fa81-4165-a229-1c11fd06ca55",
   "metadata": {},
   "outputs": [],
   "source": [
    "df.loc[3,\"m\"] = 58"
   ]
  },
  {
   "cell_type": "code",
   "execution_count": 58,
   "id": "4dba658b-549f-487c-89a4-342e98f753e4",
   "metadata": {},
   "outputs": [],
   "source": [
    "df.loc[0,2] = 1345"
   ]
  },
  {
   "cell_type": "code",
   "execution_count": 69,
   "id": "ec5a9c86-373f-42c2-8bff-3f9a3014be13",
   "metadata": {},
   "outputs": [
    {
     "data": {
      "text/html": [
       "<div>\n",
       "<style scoped>\n",
       "    .dataframe tbody tr th:only-of-type {\n",
       "        vertical-align: middle;\n",
       "    }\n",
       "\n",
       "    .dataframe tbody tr th {\n",
       "        vertical-align: top;\n",
       "    }\n",
       "\n",
       "    .dataframe thead th {\n",
       "        text-align: right;\n",
       "    }\n",
       "</style>\n",
       "<table border=\"1\" class=\"dataframe\">\n",
       "  <thead>\n",
       "    <tr style=\"text-align: right;\">\n",
       "      <th></th>\n",
       "      <th>A</th>\n",
       "      <th>B</th>\n",
       "      <th>C</th>\n",
       "      <th>D</th>\n",
       "      <th>E</th>\n",
       "      <th>1</th>\n",
       "      <th>3</th>\n",
       "      <th>m</th>\n",
       "      <th>2</th>\n",
       "    </tr>\n",
       "  </thead>\n",
       "  <tbody>\n",
       "    <tr>\n",
       "      <th>0</th>\n",
       "      <td>2563</td>\n",
       "      <td>0.249239</td>\n",
       "      <td>0.210232</td>\n",
       "      <td>0.705268</td>\n",
       "      <td>0.585135</td>\n",
       "      <td>NaN</td>\n",
       "      <td>NaN</td>\n",
       "      <td>NaN</td>\n",
       "      <td>1345.0</td>\n",
       "    </tr>\n",
       "    <tr>\n",
       "      <th>1</th>\n",
       "      <td>0.533156</td>\n",
       "      <td>0.933199</td>\n",
       "      <td>0.552222</td>\n",
       "      <td>0.744861</td>\n",
       "      <td>0.227263</td>\n",
       "      <td>uzair</td>\n",
       "      <td>NaN</td>\n",
       "      <td>NaN</td>\n",
       "      <td>NaN</td>\n",
       "    </tr>\n",
       "    <tr>\n",
       "      <th>2</th>\n",
       "      <td>0.179324</td>\n",
       "      <td>0.419793</td>\n",
       "      <td>0.618058</td>\n",
       "      <td>0.959727</td>\n",
       "      <td>0.667112</td>\n",
       "      <td>NaN</td>\n",
       "      <td>123.23</td>\n",
       "      <td>NaN</td>\n",
       "      <td>NaN</td>\n",
       "    </tr>\n",
       "    <tr>\n",
       "      <th>3</th>\n",
       "      <td>0.898675</td>\n",
       "      <td>0.160934</td>\n",
       "      <td>0.245006</td>\n",
       "      <td>0.538150</td>\n",
       "      <td>0.240019</td>\n",
       "      <td>NaN</td>\n",
       "      <td>NaN</td>\n",
       "      <td>58.0</td>\n",
       "      <td>NaN</td>\n",
       "    </tr>\n",
       "    <tr>\n",
       "      <th>4</th>\n",
       "      <td>0.769776</td>\n",
       "      <td>0.194763</td>\n",
       "      <td>0.779606</td>\n",
       "      <td>0.300935</td>\n",
       "      <td>0.284339</td>\n",
       "      <td>NaN</td>\n",
       "      <td>NaN</td>\n",
       "      <td>NaN</td>\n",
       "      <td>NaN</td>\n",
       "    </tr>\n",
       "  </tbody>\n",
       "</table>\n",
       "</div>"
      ],
      "text/plain": [
       "          A         B         C         D         E      1       3     m  \\\n",
       "0      2563  0.249239  0.210232  0.705268  0.585135    NaN     NaN   NaN   \n",
       "1  0.533156  0.933199  0.552222  0.744861  0.227263  uzair     NaN   NaN   \n",
       "2  0.179324  0.419793  0.618058  0.959727  0.667112    NaN  123.23   NaN   \n",
       "3  0.898675  0.160934  0.245006  0.538150  0.240019    NaN     NaN  58.0   \n",
       "4  0.769776  0.194763  0.779606  0.300935  0.284339    NaN     NaN   NaN   \n",
       "\n",
       "        2  \n",
       "0  1345.0  \n",
       "1     NaN  \n",
       "2     NaN  \n",
       "3     NaN  \n",
       "4     NaN  "
      ]
     },
     "execution_count": 69,
     "metadata": {},
     "output_type": "execute_result"
    }
   ],
   "source": [
    "df.head()"
   ]
  },
  {
   "cell_type": "code",
   "execution_count": 71,
   "id": "69b80a18-b678-409a-a7f1-87b51a64eb15",
   "metadata": {},
   "outputs": [],
   "source": [
    "df = df.drop(1, axis=1)"
   ]
  },
  {
   "cell_type": "code",
   "execution_count": 72,
   "id": "97ff771d-fef8-4931-84cf-6f71bf619047",
   "metadata": {},
   "outputs": [],
   "source": [
    "df = df.drop(3, axis=1)"
   ]
  },
  {
   "cell_type": "code",
   "execution_count": 73,
   "id": "e2ea5f19-e284-47c0-9335-f24c2668efbb",
   "metadata": {},
   "outputs": [],
   "source": [
    "df = df.drop('m', axis=1)"
   ]
  },
  {
   "cell_type": "code",
   "execution_count": 74,
   "id": "e8582fca-9012-4dff-a7d4-f2eef7511bce",
   "metadata": {},
   "outputs": [],
   "source": [
    "df = df.drop(2, axis=1)"
   ]
  },
  {
   "cell_type": "code",
   "execution_count": 77,
   "id": "69718c72-5b19-4628-841c-4e2b15f30e45",
   "metadata": {},
   "outputs": [],
   "source": [
    "df.loc['A', 'A'] = 10101"
   ]
  },
  {
   "cell_type": "code",
   "execution_count": 79,
   "id": "580c9d86-3fee-4056-a4e0-a1f94c523265",
   "metadata": {},
   "outputs": [
    {
     "data": {
      "text/html": [
       "<div>\n",
       "<style scoped>\n",
       "    .dataframe tbody tr th:only-of-type {\n",
       "        vertical-align: middle;\n",
       "    }\n",
       "\n",
       "    .dataframe tbody tr th {\n",
       "        vertical-align: top;\n",
       "    }\n",
       "\n",
       "    .dataframe thead th {\n",
       "        text-align: right;\n",
       "    }\n",
       "</style>\n",
       "<table border=\"1\" class=\"dataframe\">\n",
       "  <thead>\n",
       "    <tr style=\"text-align: right;\">\n",
       "      <th></th>\n",
       "      <th>A</th>\n",
       "      <th>B</th>\n",
       "      <th>C</th>\n",
       "      <th>D</th>\n",
       "      <th>E</th>\n",
       "    </tr>\n",
       "  </thead>\n",
       "  <tbody>\n",
       "    <tr>\n",
       "      <th>331</th>\n",
       "      <td>0.029971</td>\n",
       "      <td>0.659181</td>\n",
       "      <td>0.707935</td>\n",
       "      <td>0.523440</td>\n",
       "      <td>0.486447</td>\n",
       "    </tr>\n",
       "    <tr>\n",
       "      <th>332</th>\n",
       "      <td>0.405907</td>\n",
       "      <td>0.973064</td>\n",
       "      <td>0.912357</td>\n",
       "      <td>0.027224</td>\n",
       "      <td>0.767961</td>\n",
       "    </tr>\n",
       "    <tr>\n",
       "      <th>333</th>\n",
       "      <td>0.285228</td>\n",
       "      <td>0.715706</td>\n",
       "      <td>0.667353</td>\n",
       "      <td>0.810588</td>\n",
       "      <td>0.326163</td>\n",
       "    </tr>\n",
       "    <tr>\n",
       "      <th>334</th>\n",
       "      <td>0.487511</td>\n",
       "      <td>0.413026</td>\n",
       "      <td>0.327319</td>\n",
       "      <td>0.082499</td>\n",
       "      <td>0.525288</td>\n",
       "    </tr>\n",
       "    <tr>\n",
       "      <th>A</th>\n",
       "      <td>10101</td>\n",
       "      <td>NaN</td>\n",
       "      <td>NaN</td>\n",
       "      <td>NaN</td>\n",
       "      <td>NaN</td>\n",
       "    </tr>\n",
       "  </tbody>\n",
       "</table>\n",
       "</div>"
      ],
      "text/plain": [
       "            A         B         C         D         E\n",
       "331  0.029971  0.659181  0.707935  0.523440  0.486447\n",
       "332  0.405907  0.973064  0.912357  0.027224  0.767961\n",
       "333  0.285228  0.715706  0.667353  0.810588  0.326163\n",
       "334  0.487511  0.413026  0.327319  0.082499  0.525288\n",
       "A       10101       NaN       NaN       NaN       NaN"
      ]
     },
     "execution_count": 79,
     "metadata": {},
     "output_type": "execute_result"
    }
   ],
   "source": [
    "df.tail()"
   ]
  },
  {
   "cell_type": "code",
   "execution_count": 81,
   "id": "ef0d4f58-512e-4e7a-9870-a4d2f58e51d0",
   "metadata": {},
   "outputs": [],
   "source": [
    "df = df.drop('A')"
   ]
  },
  {
   "cell_type": "code",
   "execution_count": 83,
   "id": "d2ba0ded-54f2-4676-ba68-066e2d064054",
   "metadata": {},
   "outputs": [
    {
     "data": {
      "text/html": [
       "<div>\n",
       "<style scoped>\n",
       "    .dataframe tbody tr th:only-of-type {\n",
       "        vertical-align: middle;\n",
       "    }\n",
       "\n",
       "    .dataframe tbody tr th {\n",
       "        vertical-align: top;\n",
       "    }\n",
       "\n",
       "    .dataframe thead th {\n",
       "        text-align: right;\n",
       "    }\n",
       "</style>\n",
       "<table border=\"1\" class=\"dataframe\">\n",
       "  <thead>\n",
       "    <tr style=\"text-align: right;\">\n",
       "      <th></th>\n",
       "      <th>A</th>\n",
       "      <th>B</th>\n",
       "      <th>C</th>\n",
       "      <th>D</th>\n",
       "      <th>E</th>\n",
       "    </tr>\n",
       "  </thead>\n",
       "  <tbody>\n",
       "    <tr>\n",
       "      <th>330</th>\n",
       "      <td>0.417969</td>\n",
       "      <td>0.557649</td>\n",
       "      <td>0.651348</td>\n",
       "      <td>0.749245</td>\n",
       "      <td>0.677820</td>\n",
       "    </tr>\n",
       "    <tr>\n",
       "      <th>331</th>\n",
       "      <td>0.029971</td>\n",
       "      <td>0.659181</td>\n",
       "      <td>0.707935</td>\n",
       "      <td>0.523440</td>\n",
       "      <td>0.486447</td>\n",
       "    </tr>\n",
       "    <tr>\n",
       "      <th>332</th>\n",
       "      <td>0.405907</td>\n",
       "      <td>0.973064</td>\n",
       "      <td>0.912357</td>\n",
       "      <td>0.027224</td>\n",
       "      <td>0.767961</td>\n",
       "    </tr>\n",
       "    <tr>\n",
       "      <th>333</th>\n",
       "      <td>0.285228</td>\n",
       "      <td>0.715706</td>\n",
       "      <td>0.667353</td>\n",
       "      <td>0.810588</td>\n",
       "      <td>0.326163</td>\n",
       "    </tr>\n",
       "    <tr>\n",
       "      <th>334</th>\n",
       "      <td>0.487511</td>\n",
       "      <td>0.413026</td>\n",
       "      <td>0.327319</td>\n",
       "      <td>0.082499</td>\n",
       "      <td>0.525288</td>\n",
       "    </tr>\n",
       "  </tbody>\n",
       "</table>\n",
       "</div>"
      ],
      "text/plain": [
       "            A         B         C         D         E\n",
       "330  0.417969  0.557649  0.651348  0.749245  0.677820\n",
       "331  0.029971  0.659181  0.707935  0.523440  0.486447\n",
       "332  0.405907  0.973064  0.912357  0.027224  0.767961\n",
       "333  0.285228  0.715706  0.667353  0.810588  0.326163\n",
       "334  0.487511  0.413026  0.327319  0.082499  0.525288"
      ]
     },
     "execution_count": 83,
     "metadata": {},
     "output_type": "execute_result"
    }
   ],
   "source": [
    "df.tail()"
   ]
  },
  {
   "cell_type": "code",
   "execution_count": 92,
   "id": "6216f1aa-264e-4137-abe8-ae242f705e22",
   "metadata": {},
   "outputs": [
    {
     "data": {
      "text/html": [
       "<div>\n",
       "<style scoped>\n",
       "    .dataframe tbody tr th:only-of-type {\n",
       "        vertical-align: middle;\n",
       "    }\n",
       "\n",
       "    .dataframe tbody tr th {\n",
       "        vertical-align: top;\n",
       "    }\n",
       "\n",
       "    .dataframe thead th {\n",
       "        text-align: right;\n",
       "    }\n",
       "</style>\n",
       "<table border=\"1\" class=\"dataframe\">\n",
       "  <thead>\n",
       "    <tr style=\"text-align: right;\">\n",
       "      <th></th>\n",
       "      <th>C</th>\n",
       "      <th>D</th>\n",
       "    </tr>\n",
       "  </thead>\n",
       "  <tbody>\n",
       "    <tr>\n",
       "      <th>3</th>\n",
       "      <td>0.245006</td>\n",
       "      <td>0.538150</td>\n",
       "    </tr>\n",
       "    <tr>\n",
       "      <th>4</th>\n",
       "      <td>0.779606</td>\n",
       "      <td>0.300935</td>\n",
       "    </tr>\n",
       "  </tbody>\n",
       "</table>\n",
       "</div>"
      ],
      "text/plain": [
       "          C         D\n",
       "3  0.245006  0.538150\n",
       "4  0.779606  0.300935"
      ]
     },
     "execution_count": 92,
     "metadata": {},
     "output_type": "execute_result"
    }
   ],
   "source": [
    "df.loc[[3,4],['C','D']]"
   ]
  },
  {
   "cell_type": "code",
   "execution_count": 95,
   "id": "0e37949e-9a59-441b-a9a3-1f8bf2083643",
   "metadata": {},
   "outputs": [
    {
     "data": {
      "text/html": [
       "<div>\n",
       "<style scoped>\n",
       "    .dataframe tbody tr th:only-of-type {\n",
       "        vertical-align: middle;\n",
       "    }\n",
       "\n",
       "    .dataframe tbody tr th {\n",
       "        vertical-align: top;\n",
       "    }\n",
       "\n",
       "    .dataframe thead th {\n",
       "        text-align: right;\n",
       "    }\n",
       "</style>\n",
       "<table border=\"1\" class=\"dataframe\">\n",
       "  <thead>\n",
       "    <tr style=\"text-align: right;\">\n",
       "      <th></th>\n",
       "      <th>A</th>\n",
       "      <th>B</th>\n",
       "      <th>C</th>\n",
       "      <th>D</th>\n",
       "      <th>E</th>\n",
       "    </tr>\n",
       "  </thead>\n",
       "  <tbody>\n",
       "    <tr>\n",
       "      <th>0</th>\n",
       "      <td>2563</td>\n",
       "      <td>0.249239</td>\n",
       "      <td>0.210232</td>\n",
       "      <td>0.705268</td>\n",
       "      <td>0.585135</td>\n",
       "    </tr>\n",
       "    <tr>\n",
       "      <th>3</th>\n",
       "      <td>0.898675</td>\n",
       "      <td>0.160934</td>\n",
       "      <td>0.245006</td>\n",
       "      <td>0.538150</td>\n",
       "      <td>0.240019</td>\n",
       "    </tr>\n",
       "    <tr>\n",
       "      <th>4</th>\n",
       "      <td>0.769776</td>\n",
       "      <td>0.194763</td>\n",
       "      <td>0.779606</td>\n",
       "      <td>0.300935</td>\n",
       "      <td>0.284339</td>\n",
       "    </tr>\n",
       "    <tr>\n",
       "      <th>5</th>\n",
       "      <td>0.502597</td>\n",
       "      <td>0.375512</td>\n",
       "      <td>0.251439</td>\n",
       "      <td>0.864990</td>\n",
       "      <td>0.916767</td>\n",
       "    </tr>\n",
       "    <tr>\n",
       "      <th>6</th>\n",
       "      <td>0.810259</td>\n",
       "      <td>0.412173</td>\n",
       "      <td>0.578443</td>\n",
       "      <td>0.061936</td>\n",
       "      <td>0.838435</td>\n",
       "    </tr>\n",
       "    <tr>\n",
       "      <th>...</th>\n",
       "      <td>...</td>\n",
       "      <td>...</td>\n",
       "      <td>...</td>\n",
       "      <td>...</td>\n",
       "      <td>...</td>\n",
       "    </tr>\n",
       "    <tr>\n",
       "      <th>316</th>\n",
       "      <td>0.60314</td>\n",
       "      <td>0.805752</td>\n",
       "      <td>0.321692</td>\n",
       "      <td>0.719849</td>\n",
       "      <td>0.924356</td>\n",
       "    </tr>\n",
       "    <tr>\n",
       "      <th>322</th>\n",
       "      <td>0.52332</td>\n",
       "      <td>0.270212</td>\n",
       "      <td>0.012748</td>\n",
       "      <td>0.455039</td>\n",
       "      <td>0.906650</td>\n",
       "    </tr>\n",
       "    <tr>\n",
       "      <th>325</th>\n",
       "      <td>0.950831</td>\n",
       "      <td>0.610447</td>\n",
       "      <td>0.489111</td>\n",
       "      <td>0.427088</td>\n",
       "      <td>0.905006</td>\n",
       "    </tr>\n",
       "    <tr>\n",
       "      <th>327</th>\n",
       "      <td>0.813337</td>\n",
       "      <td>0.061982</td>\n",
       "      <td>0.942879</td>\n",
       "      <td>0.221491</td>\n",
       "      <td>0.665808</td>\n",
       "    </tr>\n",
       "    <tr>\n",
       "      <th>329</th>\n",
       "      <td>0.541206</td>\n",
       "      <td>0.882159</td>\n",
       "      <td>0.692241</td>\n",
       "      <td>0.311745</td>\n",
       "      <td>0.620318</td>\n",
       "    </tr>\n",
       "  </tbody>\n",
       "</table>\n",
       "<p>169 rows × 5 columns</p>\n",
       "</div>"
      ],
      "text/plain": [
       "            A         B         C         D         E\n",
       "0        2563  0.249239  0.210232  0.705268  0.585135\n",
       "3    0.898675  0.160934  0.245006  0.538150  0.240019\n",
       "4    0.769776  0.194763  0.779606  0.300935  0.284339\n",
       "5    0.502597  0.375512  0.251439  0.864990  0.916767\n",
       "6    0.810259  0.412173  0.578443  0.061936  0.838435\n",
       "..        ...       ...       ...       ...       ...\n",
       "316   0.60314  0.805752  0.321692  0.719849  0.924356\n",
       "322   0.52332  0.270212  0.012748  0.455039  0.906650\n",
       "325  0.950831  0.610447  0.489111  0.427088  0.905006\n",
       "327  0.813337  0.061982  0.942879  0.221491  0.665808\n",
       "329  0.541206  0.882159  0.692241  0.311745  0.620318\n",
       "\n",
       "[169 rows x 5 columns]"
      ]
     },
     "execution_count": 95,
     "metadata": {},
     "output_type": "execute_result"
    }
   ],
   "source": [
    "df.loc[(df.A > 0.5)]"
   ]
  },
  {
   "cell_type": "code",
   "execution_count": 99,
   "id": "c4ba5c06-8ba2-4caa-9f59-8a6d7d3be535",
   "metadata": {},
   "outputs": [
    {
     "data": {
      "text/html": [
       "<div>\n",
       "<style scoped>\n",
       "    .dataframe tbody tr th:only-of-type {\n",
       "        vertical-align: middle;\n",
       "    }\n",
       "\n",
       "    .dataframe tbody tr th {\n",
       "        vertical-align: top;\n",
       "    }\n",
       "\n",
       "    .dataframe thead th {\n",
       "        text-align: right;\n",
       "    }\n",
       "</style>\n",
       "<table border=\"1\" class=\"dataframe\">\n",
       "  <thead>\n",
       "    <tr style=\"text-align: right;\">\n",
       "      <th></th>\n",
       "      <th>A</th>\n",
       "      <th>B</th>\n",
       "      <th>C</th>\n",
       "      <th>D</th>\n",
       "      <th>E</th>\n",
       "    </tr>\n",
       "  </thead>\n",
       "  <tbody>\n",
       "    <tr>\n",
       "      <th>150</th>\n",
       "      <td>0.903545</td>\n",
       "      <td>0.819173</td>\n",
       "      <td>0.636309</td>\n",
       "      <td>0.041162</td>\n",
       "      <td>0.105192</td>\n",
       "    </tr>\n",
       "    <tr>\n",
       "      <th>186</th>\n",
       "      <td>0.888156</td>\n",
       "      <td>0.605784</td>\n",
       "      <td>0.050661</td>\n",
       "      <td>0.045044</td>\n",
       "      <td>0.549334</td>\n",
       "    </tr>\n",
       "    <tr>\n",
       "      <th>242</th>\n",
       "      <td>0.905927</td>\n",
       "      <td>0.171317</td>\n",
       "      <td>0.706982</td>\n",
       "      <td>0.027114</td>\n",
       "      <td>0.871246</td>\n",
       "    </tr>\n",
       "    <tr>\n",
       "      <th>247</th>\n",
       "      <td>0.929829</td>\n",
       "      <td>0.961607</td>\n",
       "      <td>0.304710</td>\n",
       "      <td>0.045363</td>\n",
       "      <td>0.455174</td>\n",
       "    </tr>\n",
       "    <tr>\n",
       "      <th>275</th>\n",
       "      <td>0.879211</td>\n",
       "      <td>0.401661</td>\n",
       "      <td>0.544896</td>\n",
       "      <td>0.031324</td>\n",
       "      <td>0.135358</td>\n",
       "    </tr>\n",
       "    <tr>\n",
       "      <th>287</th>\n",
       "      <td>0.888833</td>\n",
       "      <td>0.905424</td>\n",
       "      <td>0.079625</td>\n",
       "      <td>0.046306</td>\n",
       "      <td>0.476857</td>\n",
       "    </tr>\n",
       "    <tr>\n",
       "      <th>304</th>\n",
       "      <td>0.885369</td>\n",
       "      <td>0.190821</td>\n",
       "      <td>0.591767</td>\n",
       "      <td>0.001207</td>\n",
       "      <td>0.712985</td>\n",
       "    </tr>\n",
       "  </tbody>\n",
       "</table>\n",
       "</div>"
      ],
      "text/plain": [
       "            A         B         C         D         E\n",
       "150  0.903545  0.819173  0.636309  0.041162  0.105192\n",
       "186  0.888156  0.605784  0.050661  0.045044  0.549334\n",
       "242  0.905927  0.171317  0.706982  0.027114  0.871246\n",
       "247  0.929829  0.961607  0.304710  0.045363  0.455174\n",
       "275  0.879211  0.401661  0.544896  0.031324  0.135358\n",
       "287  0.888833  0.905424  0.079625  0.046306  0.476857\n",
       "304  0.885369  0.190821  0.591767  0.001207  0.712985"
      ]
     },
     "execution_count": 99,
     "metadata": {},
     "output_type": "execute_result"
    }
   ],
   "source": [
    "df.loc[(df.A > 0.85) & (df.D < 0.1)]"
   ]
  },
  {
   "cell_type": "code",
   "execution_count": 101,
   "id": "d3d80f31-7467-489f-adaf-adaa7b227b91",
   "metadata": {},
   "outputs": [
    {
     "data": {
      "text/html": [
       "<div>\n",
       "<style scoped>\n",
       "    .dataframe tbody tr th:only-of-type {\n",
       "        vertical-align: middle;\n",
       "    }\n",
       "\n",
       "    .dataframe tbody tr th {\n",
       "        vertical-align: top;\n",
       "    }\n",
       "\n",
       "    .dataframe thead th {\n",
       "        text-align: right;\n",
       "    }\n",
       "</style>\n",
       "<table border=\"1\" class=\"dataframe\">\n",
       "  <thead>\n",
       "    <tr style=\"text-align: right;\">\n",
       "      <th></th>\n",
       "      <th>A</th>\n",
       "      <th>B</th>\n",
       "      <th>C</th>\n",
       "      <th>D</th>\n",
       "      <th>E</th>\n",
       "    </tr>\n",
       "  </thead>\n",
       "  <tbody>\n",
       "    <tr>\n",
       "      <th>18</th>\n",
       "      <td>0.388835</td>\n",
       "      <td>0.985244</td>\n",
       "      <td>0.025021</td>\n",
       "      <td>0.285334</td>\n",
       "      <td>0.809142</td>\n",
       "    </tr>\n",
       "    <tr>\n",
       "      <th>36</th>\n",
       "      <td>0.610466</td>\n",
       "      <td>0.475509</td>\n",
       "      <td>0.084747</td>\n",
       "      <td>0.527842</td>\n",
       "      <td>0.845963</td>\n",
       "    </tr>\n",
       "    <tr>\n",
       "      <th>45</th>\n",
       "      <td>0.410497</td>\n",
       "      <td>0.786096</td>\n",
       "      <td>0.056081</td>\n",
       "      <td>0.573251</td>\n",
       "      <td>0.766850</td>\n",
       "    </tr>\n",
       "    <tr>\n",
       "      <th>84</th>\n",
       "      <td>0.76507</td>\n",
       "      <td>0.570356</td>\n",
       "      <td>0.075613</td>\n",
       "      <td>0.549800</td>\n",
       "      <td>0.823340</td>\n",
       "    </tr>\n",
       "    <tr>\n",
       "      <th>85</th>\n",
       "      <td>0.165618</td>\n",
       "      <td>0.287486</td>\n",
       "      <td>0.021115</td>\n",
       "      <td>0.082774</td>\n",
       "      <td>0.768572</td>\n",
       "    </tr>\n",
       "    <tr>\n",
       "      <th>97</th>\n",
       "      <td>0.06567</td>\n",
       "      <td>0.853804</td>\n",
       "      <td>0.056591</td>\n",
       "      <td>0.407027</td>\n",
       "      <td>0.843147</td>\n",
       "    </tr>\n",
       "    <tr>\n",
       "      <th>100</th>\n",
       "      <td>0.558434</td>\n",
       "      <td>0.741512</td>\n",
       "      <td>0.059493</td>\n",
       "      <td>0.757518</td>\n",
       "      <td>0.819378</td>\n",
       "    </tr>\n",
       "    <tr>\n",
       "      <th>141</th>\n",
       "      <td>0.432118</td>\n",
       "      <td>0.646832</td>\n",
       "      <td>0.086551</td>\n",
       "      <td>0.053114</td>\n",
       "      <td>0.880324</td>\n",
       "    </tr>\n",
       "    <tr>\n",
       "      <th>244</th>\n",
       "      <td>0.092445</td>\n",
       "      <td>0.350991</td>\n",
       "      <td>0.005847</td>\n",
       "      <td>0.541086</td>\n",
       "      <td>0.759112</td>\n",
       "    </tr>\n",
       "    <tr>\n",
       "      <th>291</th>\n",
       "      <td>0.870782</td>\n",
       "      <td>0.761332</td>\n",
       "      <td>0.025053</td>\n",
       "      <td>0.690457</td>\n",
       "      <td>0.723217</td>\n",
       "    </tr>\n",
       "    <tr>\n",
       "      <th>322</th>\n",
       "      <td>0.52332</td>\n",
       "      <td>0.270212</td>\n",
       "      <td>0.012748</td>\n",
       "      <td>0.455039</td>\n",
       "      <td>0.906650</td>\n",
       "    </tr>\n",
       "  </tbody>\n",
       "</table>\n",
       "</div>"
      ],
      "text/plain": [
       "            A         B         C         D         E\n",
       "18   0.388835  0.985244  0.025021  0.285334  0.809142\n",
       "36   0.610466  0.475509  0.084747  0.527842  0.845963\n",
       "45   0.410497  0.786096  0.056081  0.573251  0.766850\n",
       "84    0.76507  0.570356  0.075613  0.549800  0.823340\n",
       "85   0.165618  0.287486  0.021115  0.082774  0.768572\n",
       "97    0.06567  0.853804  0.056591  0.407027  0.843147\n",
       "100  0.558434  0.741512  0.059493  0.757518  0.819378\n",
       "141  0.432118  0.646832  0.086551  0.053114  0.880324\n",
       "244  0.092445  0.350991  0.005847  0.541086  0.759112\n",
       "291  0.870782  0.761332  0.025053  0.690457  0.723217\n",
       "322   0.52332  0.270212  0.012748  0.455039  0.906650"
      ]
     },
     "execution_count": 101,
     "metadata": {},
     "output_type": "execute_result"
    }
   ],
   "source": [
    "df.loc[(df.C < 0.09) & (df.E > 0.7)]"
   ]
  },
  {
   "cell_type": "code",
   "execution_count": 104,
   "id": "3f983fdd-ce82-4243-8ad9-abd15c67419f",
   "metadata": {},
   "outputs": [
    {
     "data": {
      "text/html": [
       "<div>\n",
       "<style scoped>\n",
       "    .dataframe tbody tr th:only-of-type {\n",
       "        vertical-align: middle;\n",
       "    }\n",
       "\n",
       "    .dataframe tbody tr th {\n",
       "        vertical-align: top;\n",
       "    }\n",
       "\n",
       "    .dataframe thead th {\n",
       "        text-align: right;\n",
       "    }\n",
       "</style>\n",
       "<table border=\"1\" class=\"dataframe\">\n",
       "  <thead>\n",
       "    <tr style=\"text-align: right;\">\n",
       "      <th></th>\n",
       "      <th>A</th>\n",
       "      <th>B</th>\n",
       "      <th>C</th>\n",
       "      <th>D</th>\n",
       "      <th>E</th>\n",
       "    </tr>\n",
       "  </thead>\n",
       "  <tbody>\n",
       "    <tr>\n",
       "      <th>11</th>\n",
       "      <td>0.010744</td>\n",
       "      <td>0.706522</td>\n",
       "      <td>0.841843</td>\n",
       "      <td>0.121772</td>\n",
       "      <td>0.637847</td>\n",
       "    </tr>\n",
       "    <tr>\n",
       "      <th>24</th>\n",
       "      <td>0.019956</td>\n",
       "      <td>0.949061</td>\n",
       "      <td>0.495886</td>\n",
       "      <td>0.695457</td>\n",
       "      <td>0.916847</td>\n",
       "    </tr>\n",
       "    <tr>\n",
       "      <th>32</th>\n",
       "      <td>0.010259</td>\n",
       "      <td>0.699766</td>\n",
       "      <td>0.516772</td>\n",
       "      <td>0.479407</td>\n",
       "      <td>0.029211</td>\n",
       "    </tr>\n",
       "    <tr>\n",
       "      <th>38</th>\n",
       "      <td>0.019376</td>\n",
       "      <td>0.522708</td>\n",
       "      <td>0.077396</td>\n",
       "      <td>0.657900</td>\n",
       "      <td>0.437514</td>\n",
       "    </tr>\n",
       "    <tr>\n",
       "      <th>109</th>\n",
       "      <td>0.025244</td>\n",
       "      <td>0.523491</td>\n",
       "      <td>0.416964</td>\n",
       "      <td>0.701658</td>\n",
       "      <td>0.326321</td>\n",
       "    </tr>\n",
       "    <tr>\n",
       "      <th>111</th>\n",
       "      <td>0.031763</td>\n",
       "      <td>0.291352</td>\n",
       "      <td>0.446829</td>\n",
       "      <td>0.031722</td>\n",
       "      <td>0.445128</td>\n",
       "    </tr>\n",
       "    <tr>\n",
       "      <th>112</th>\n",
       "      <td>0.024921</td>\n",
       "      <td>0.589110</td>\n",
       "      <td>0.989068</td>\n",
       "      <td>0.509522</td>\n",
       "      <td>0.642660</td>\n",
       "    </tr>\n",
       "    <tr>\n",
       "      <th>113</th>\n",
       "      <td>0.018431</td>\n",
       "      <td>0.999080</td>\n",
       "      <td>0.330882</td>\n",
       "      <td>0.976676</td>\n",
       "      <td>0.703821</td>\n",
       "    </tr>\n",
       "    <tr>\n",
       "      <th>119</th>\n",
       "      <td>0.00836</td>\n",
       "      <td>0.211534</td>\n",
       "      <td>0.812204</td>\n",
       "      <td>0.444406</td>\n",
       "      <td>0.252021</td>\n",
       "    </tr>\n",
       "    <tr>\n",
       "      <th>138</th>\n",
       "      <td>0.020853</td>\n",
       "      <td>0.050190</td>\n",
       "      <td>0.406139</td>\n",
       "      <td>0.789916</td>\n",
       "      <td>0.837886</td>\n",
       "    </tr>\n",
       "    <tr>\n",
       "      <th>148</th>\n",
       "      <td>0.021613</td>\n",
       "      <td>0.393297</td>\n",
       "      <td>0.743828</td>\n",
       "      <td>0.413821</td>\n",
       "      <td>0.695567</td>\n",
       "    </tr>\n",
       "    <tr>\n",
       "      <th>238</th>\n",
       "      <td>0.009738</td>\n",
       "      <td>0.725224</td>\n",
       "      <td>0.413725</td>\n",
       "      <td>0.083420</td>\n",
       "      <td>0.554258</td>\n",
       "    </tr>\n",
       "    <tr>\n",
       "      <th>331</th>\n",
       "      <td>0.029971</td>\n",
       "      <td>0.659181</td>\n",
       "      <td>0.707935</td>\n",
       "      <td>0.523440</td>\n",
       "      <td>0.486447</td>\n",
       "    </tr>\n",
       "  </tbody>\n",
       "</table>\n",
       "</div>"
      ],
      "text/plain": [
       "            A         B         C         D         E\n",
       "11   0.010744  0.706522  0.841843  0.121772  0.637847\n",
       "24   0.019956  0.949061  0.495886  0.695457  0.916847\n",
       "32   0.010259  0.699766  0.516772  0.479407  0.029211\n",
       "38   0.019376  0.522708  0.077396  0.657900  0.437514\n",
       "109  0.025244  0.523491  0.416964  0.701658  0.326321\n",
       "111  0.031763  0.291352  0.446829  0.031722  0.445128\n",
       "112  0.024921  0.589110  0.989068  0.509522  0.642660\n",
       "113  0.018431  0.999080  0.330882  0.976676  0.703821\n",
       "119   0.00836  0.211534  0.812204  0.444406  0.252021\n",
       "138  0.020853  0.050190  0.406139  0.789916  0.837886\n",
       "148  0.021613  0.393297  0.743828  0.413821  0.695567\n",
       "238  0.009738  0.725224  0.413725  0.083420  0.554258\n",
       "331  0.029971  0.659181  0.707935  0.523440  0.486447"
      ]
     },
     "execution_count": 104,
     "metadata": {},
     "output_type": "execute_result"
    }
   ],
   "source": [
    "df.loc[(df.A <0.04)]"
   ]
  },
  {
   "cell_type": "code",
   "execution_count": 105,
   "id": "10d18a01-78d5-4ea2-ae1d-dc52052f551f",
   "metadata": {},
   "outputs": [
    {
     "data": {
      "text/html": [
       "<div>\n",
       "<style scoped>\n",
       "    .dataframe tbody tr th:only-of-type {\n",
       "        vertical-align: middle;\n",
       "    }\n",
       "\n",
       "    .dataframe tbody tr th {\n",
       "        vertical-align: top;\n",
       "    }\n",
       "\n",
       "    .dataframe thead th {\n",
       "        text-align: right;\n",
       "    }\n",
       "</style>\n",
       "<table border=\"1\" class=\"dataframe\">\n",
       "  <thead>\n",
       "    <tr style=\"text-align: right;\">\n",
       "      <th></th>\n",
       "      <th>A</th>\n",
       "      <th>B</th>\n",
       "      <th>C</th>\n",
       "      <th>D</th>\n",
       "      <th>E</th>\n",
       "    </tr>\n",
       "  </thead>\n",
       "  <tbody>\n",
       "    <tr>\n",
       "      <th>26</th>\n",
       "      <td>0.878243</td>\n",
       "      <td>0.009841</td>\n",
       "      <td>0.715577</td>\n",
       "      <td>0.700617</td>\n",
       "      <td>0.272922</td>\n",
       "    </tr>\n",
       "    <tr>\n",
       "      <th>203</th>\n",
       "      <td>0.270779</td>\n",
       "      <td>0.007426</td>\n",
       "      <td>0.721745</td>\n",
       "      <td>0.599056</td>\n",
       "      <td>0.732872</td>\n",
       "    </tr>\n",
       "    <tr>\n",
       "      <th>286</th>\n",
       "      <td>0.369833</td>\n",
       "      <td>0.008150</td>\n",
       "      <td>0.281454</td>\n",
       "      <td>0.411931</td>\n",
       "      <td>0.979922</td>\n",
       "    </tr>\n",
       "  </tbody>\n",
       "</table>\n",
       "</div>"
      ],
      "text/plain": [
       "            A         B         C         D         E\n",
       "26   0.878243  0.009841  0.715577  0.700617  0.272922\n",
       "203  0.270779  0.007426  0.721745  0.599056  0.732872\n",
       "286  0.369833  0.008150  0.281454  0.411931  0.979922"
      ]
     },
     "execution_count": 105,
     "metadata": {},
     "output_type": "execute_result"
    }
   ],
   "source": [
    "df.loc[(df.B < 0.01)]"
   ]
  },
  {
   "cell_type": "code",
   "execution_count": 107,
   "id": "18e407d1-6c32-404d-95bb-30d8280495c8",
   "metadata": {},
   "outputs": [
    {
     "data": {
      "text/plain": [
       "np.float64(0.007425688901325445)"
      ]
     },
     "execution_count": 107,
     "metadata": {},
     "output_type": "execute_result"
    }
   ],
   "source": [
    "df.B.min()"
   ]
  },
  {
   "cell_type": "code",
   "execution_count": 108,
   "id": "a5305e70-9b02-4ec4-9061-af31f75bf11a",
   "metadata": {},
   "outputs": [
    {
     "data": {
      "text/plain": [
       "np.float64(0.9963798311901542)"
      ]
     },
     "execution_count": 108,
     "metadata": {},
     "output_type": "execute_result"
    }
   ],
   "source": [
    "df.D.max()"
   ]
  },
  {
   "cell_type": "code",
   "execution_count": 109,
   "id": "686d42e9-f127-4ead-acea-d9587bc3bf3e",
   "metadata": {},
   "outputs": [
    {
     "data": {
      "text/plain": [
       "np.float64(140.21420373452327)"
      ]
     },
     "execution_count": 109,
     "metadata": {},
     "output_type": "execute_result"
    }
   ],
   "source": [
    "df.A.std()"
   ]
  },
  {
   "cell_type": "code",
   "execution_count": 111,
   "id": "755cd668-e919-4457-938e-aacf5994364a",
   "metadata": {},
   "outputs": [
    {
     "data": {
      "text/html": [
       "<div>\n",
       "<style scoped>\n",
       "    .dataframe tbody tr th:only-of-type {\n",
       "        vertical-align: middle;\n",
       "    }\n",
       "\n",
       "    .dataframe tbody tr th {\n",
       "        vertical-align: top;\n",
       "    }\n",
       "\n",
       "    .dataframe thead th {\n",
       "        text-align: right;\n",
       "    }\n",
       "</style>\n",
       "<table border=\"1\" class=\"dataframe\">\n",
       "  <thead>\n",
       "    <tr style=\"text-align: right;\">\n",
       "      <th></th>\n",
       "      <th>B</th>\n",
       "      <th>C</th>\n",
       "      <th>D</th>\n",
       "      <th>E</th>\n",
       "    </tr>\n",
       "  </thead>\n",
       "  <tbody>\n",
       "    <tr>\n",
       "      <th>count</th>\n",
       "      <td>334.000000</td>\n",
       "      <td>334.000000</td>\n",
       "      <td>334.000000</td>\n",
       "      <td>334.000000</td>\n",
       "    </tr>\n",
       "    <tr>\n",
       "      <th>mean</th>\n",
       "      <td>0.511378</td>\n",
       "      <td>0.520567</td>\n",
       "      <td>0.503958</td>\n",
       "      <td>0.500234</td>\n",
       "    </tr>\n",
       "    <tr>\n",
       "      <th>std</th>\n",
       "      <td>0.277744</td>\n",
       "      <td>0.293164</td>\n",
       "      <td>0.286725</td>\n",
       "      <td>0.283905</td>\n",
       "    </tr>\n",
       "    <tr>\n",
       "      <th>min</th>\n",
       "      <td>0.007426</td>\n",
       "      <td>0.000808</td>\n",
       "      <td>0.001207</td>\n",
       "      <td>0.007831</td>\n",
       "    </tr>\n",
       "    <tr>\n",
       "      <th>25%</th>\n",
       "      <td>0.269603</td>\n",
       "      <td>0.269656</td>\n",
       "      <td>0.276532</td>\n",
       "      <td>0.236955</td>\n",
       "    </tr>\n",
       "    <tr>\n",
       "      <th>50%</th>\n",
       "      <td>0.508731</td>\n",
       "      <td>0.542089</td>\n",
       "      <td>0.483032</td>\n",
       "      <td>0.514475</td>\n",
       "    </tr>\n",
       "    <tr>\n",
       "      <th>75%</th>\n",
       "      <td>0.741313</td>\n",
       "      <td>0.778400</td>\n",
       "      <td>0.747343</td>\n",
       "      <td>0.739422</td>\n",
       "    </tr>\n",
       "    <tr>\n",
       "      <th>max</th>\n",
       "      <td>0.999080</td>\n",
       "      <td>0.996343</td>\n",
       "      <td>0.996380</td>\n",
       "      <td>0.994450</td>\n",
       "    </tr>\n",
       "  </tbody>\n",
       "</table>\n",
       "</div>"
      ],
      "text/plain": [
       "                B           C           D           E\n",
       "count  334.000000  334.000000  334.000000  334.000000\n",
       "mean     0.511378    0.520567    0.503958    0.500234\n",
       "std      0.277744    0.293164    0.286725    0.283905\n",
       "min      0.007426    0.000808    0.001207    0.007831\n",
       "25%      0.269603    0.269656    0.276532    0.236955\n",
       "50%      0.508731    0.542089    0.483032    0.514475\n",
       "75%      0.741313    0.778400    0.747343    0.739422\n",
       "max      0.999080    0.996343    0.996380    0.994450"
      ]
     },
     "execution_count": 111,
     "metadata": {},
     "output_type": "execute_result"
    }
   ],
   "source": [
    "df.describe()"
   ]
  },
  {
   "cell_type": "code",
   "execution_count": 113,
   "id": "575e8587-1d44-493e-b2ff-7464f75dd96f",
   "metadata": {},
   "outputs": [
    {
     "data": {
      "text/plain": [
       "count     334.000000\n",
       "unique    334.000000\n",
       "top         0.487511\n",
       "freq        1.000000\n",
       "Name: A, dtype: float64"
      ]
     },
     "execution_count": 113,
     "metadata": {},
     "output_type": "execute_result"
    }
   ],
   "source": [
    "df.A.describe()"
   ]
  },
  {
   "cell_type": "code",
   "execution_count": 114,
   "id": "ae1784d8-0ab0-4841-8947-a14fba538023",
   "metadata": {},
   "outputs": [
    {
     "data": {
      "text/plain": [
       "count    334.000000\n",
       "mean       0.511378\n",
       "std        0.277744\n",
       "min        0.007426\n",
       "25%        0.269603\n",
       "50%        0.508731\n",
       "75%        0.741313\n",
       "max        0.999080\n",
       "Name: B, dtype: float64"
      ]
     },
     "execution_count": 114,
     "metadata": {},
     "output_type": "execute_result"
    }
   ],
   "source": [
    "df.B.describe()"
   ]
  },
  {
   "cell_type": "code",
   "execution_count": 115,
   "id": "bf450e11-7553-4869-a7ba-6b470dae4edd",
   "metadata": {},
   "outputs": [
    {
     "data": {
      "text/plain": [
       "count    334.000000\n",
       "mean       0.503958\n",
       "std        0.286725\n",
       "min        0.001207\n",
       "25%        0.276532\n",
       "50%        0.483032\n",
       "75%        0.747343\n",
       "max        0.996380\n",
       "Name: D, dtype: float64"
      ]
     },
     "execution_count": 115,
     "metadata": {},
     "output_type": "execute_result"
    }
   ],
   "source": [
    "df.D.describe()"
   ]
  },
  {
   "cell_type": "code",
   "execution_count": 116,
   "id": "1c34373e-c469-42c3-8091-19a71277500c",
   "metadata": {},
   "outputs": [
    {
     "data": {
      "text/plain": [
       "np.float64(0.2867245853866536)"
      ]
     },
     "execution_count": 116,
     "metadata": {},
     "output_type": "execute_result"
    }
   ],
   "source": [
    "df.D.std()"
   ]
  },
  {
   "cell_type": "code",
   "execution_count": 117,
   "id": "59d48f69-72a0-4ae6-9a07-a992064b07e7",
   "metadata": {},
   "outputs": [
    {
     "name": "stderr",
     "output_type": "stream",
     "text": [
      "C:\\Users\\Uzer\\AppData\\Local\\Temp\\ipykernel_10600\\1644215508.py:1: SettingWithCopyWarning: \n",
      "A value is trying to be set on a copy of a slice from a DataFrame\n",
      "\n",
      "See the caveats in the documentation: https://pandas.pydata.org/pandas-docs/stable/user_guide/indexing.html#returning-a-view-versus-a-copy\n",
      "  df.A[0] = 0.125\n"
     ]
    }
   ],
   "source": [
    "df.A[0] = 0.125"
   ]
  },
  {
   "cell_type": "code",
   "execution_count": 120,
   "id": "54988ee2-77db-44fc-8764-65558c5132c1",
   "metadata": {},
   "outputs": [
    {
     "data": {
      "text/plain": [
       "count     334.000000\n",
       "unique    334.000000\n",
       "top         0.487511\n",
       "freq        1.000000\n",
       "Name: A, dtype: float64"
      ]
     },
     "execution_count": 120,
     "metadata": {},
     "output_type": "execute_result"
    }
   ],
   "source": [
    "df.A.describe()"
   ]
  },
  {
   "cell_type": "code",
   "execution_count": 122,
   "id": "9d74f4e3-864f-483d-a525-e79e35f7770f",
   "metadata": {},
   "outputs": [],
   "source": [
    "df1 = df.loc[(df.A > 0.5)]"
   ]
  },
  {
   "cell_type": "code",
   "execution_count": 135,
   "id": "bb439b02-a6e5-48f6-9be0-814f3410afac",
   "metadata": {},
   "outputs": [
    {
     "data": {
      "text/plain": [
       "np.float64(0.5381501947262411)"
      ]
     },
     "execution_count": 135,
     "metadata": {},
     "output_type": "execute_result"
    }
   ],
   "source": [
    "df.loc[3, 'D']"
   ]
  },
  {
   "cell_type": "code",
   "execution_count": 128,
   "id": "c493588c-dcdd-4470-b8d4-52c561f1c7a5",
   "metadata": {},
   "outputs": [
    {
     "data": {
      "text/plain": [
       "np.float64(0.9597266207314845)"
      ]
     },
     "execution_count": 128,
     "metadata": {},
     "output_type": "execute_result"
    }
   ],
   "source": [
    "df.iloc[1,3]"
   ]
  },
  {
   "cell_type": "code",
   "execution_count": 130,
   "id": "297241d5-371f-44c3-b730-fa2b45d8b4bf",
   "metadata": {},
   "outputs": [
    {
     "data": {
      "text/html": [
       "<div>\n",
       "<style scoped>\n",
       "    .dataframe tbody tr th:only-of-type {\n",
       "        vertical-align: middle;\n",
       "    }\n",
       "\n",
       "    .dataframe tbody tr th {\n",
       "        vertical-align: top;\n",
       "    }\n",
       "\n",
       "    .dataframe thead th {\n",
       "        text-align: right;\n",
       "    }\n",
       "</style>\n",
       "<table border=\"1\" class=\"dataframe\">\n",
       "  <thead>\n",
       "    <tr style=\"text-align: right;\">\n",
       "      <th></th>\n",
       "      <th>A</th>\n",
       "      <th>B</th>\n",
       "      <th>C</th>\n",
       "      <th>D</th>\n",
       "      <th>E</th>\n",
       "    </tr>\n",
       "  </thead>\n",
       "  <tbody>\n",
       "    <tr>\n",
       "      <th>0</th>\n",
       "      <td>0.125</td>\n",
       "      <td>0.249239</td>\n",
       "      <td>0.210232</td>\n",
       "      <td>0.705268</td>\n",
       "      <td>0.585135</td>\n",
       "    </tr>\n",
       "    <tr>\n",
       "      <th>2</th>\n",
       "      <td>0.179324</td>\n",
       "      <td>0.419793</td>\n",
       "      <td>0.618058</td>\n",
       "      <td>0.959727</td>\n",
       "      <td>0.667112</td>\n",
       "    </tr>\n",
       "    <tr>\n",
       "      <th>3</th>\n",
       "      <td>0.898675</td>\n",
       "      <td>0.160934</td>\n",
       "      <td>0.245006</td>\n",
       "      <td>0.538150</td>\n",
       "      <td>0.240019</td>\n",
       "    </tr>\n",
       "    <tr>\n",
       "      <th>4</th>\n",
       "      <td>0.769776</td>\n",
       "      <td>0.194763</td>\n",
       "      <td>0.779606</td>\n",
       "      <td>0.300935</td>\n",
       "      <td>0.284339</td>\n",
       "    </tr>\n",
       "    <tr>\n",
       "      <th>5</th>\n",
       "      <td>0.502597</td>\n",
       "      <td>0.375512</td>\n",
       "      <td>0.251439</td>\n",
       "      <td>0.864990</td>\n",
       "      <td>0.916767</td>\n",
       "    </tr>\n",
       "  </tbody>\n",
       "</table>\n",
       "</div>"
      ],
      "text/plain": [
       "          A         B         C         D         E\n",
       "0     0.125  0.249239  0.210232  0.705268  0.585135\n",
       "2  0.179324  0.419793  0.618058  0.959727  0.667112\n",
       "3  0.898675  0.160934  0.245006  0.538150  0.240019\n",
       "4  0.769776  0.194763  0.779606  0.300935  0.284339\n",
       "5  0.502597  0.375512  0.251439  0.864990  0.916767"
      ]
     },
     "execution_count": 130,
     "metadata": {},
     "output_type": "execute_result"
    }
   ],
   "source": [
    "df.head()"
   ]
  },
  {
   "cell_type": "code",
   "execution_count": 131,
   "id": "f8d4afd8-69e0-4edf-90df-b7e482dbf127",
   "metadata": {},
   "outputs": [
    {
     "data": {
      "text/plain": [
       "np.float64(0.24001893799107266)"
      ]
     },
     "execution_count": 131,
     "metadata": {},
     "output_type": "execute_result"
    }
   ],
   "source": [
    "df.iloc[2,4]"
   ]
  },
  {
   "cell_type": "code",
   "execution_count": 134,
   "id": "a8deba34-001c-4055-98a8-413432557af1",
   "metadata": {},
   "outputs": [
    {
     "data": {
      "text/plain": [
       "0.125"
      ]
     },
     "execution_count": 134,
     "metadata": {},
     "output_type": "execute_result"
    }
   ],
   "source": [
    "df.loc[0,'A']"
   ]
  },
  {
   "cell_type": "code",
   "execution_count": 136,
   "id": "34b9b88a-e3e0-40e5-be70-1188c7f1c10b",
   "metadata": {},
   "outputs": [
    {
     "data": {
      "text/html": [
       "<div>\n",
       "<style scoped>\n",
       "    .dataframe tbody tr th:only-of-type {\n",
       "        vertical-align: middle;\n",
       "    }\n",
       "\n",
       "    .dataframe tbody tr th {\n",
       "        vertical-align: top;\n",
       "    }\n",
       "\n",
       "    .dataframe thead th {\n",
       "        text-align: right;\n",
       "    }\n",
       "</style>\n",
       "<table border=\"1\" class=\"dataframe\">\n",
       "  <thead>\n",
       "    <tr style=\"text-align: right;\">\n",
       "      <th></th>\n",
       "      <th>B</th>\n",
       "      <th>D</th>\n",
       "      <th>E</th>\n",
       "    </tr>\n",
       "  </thead>\n",
       "  <tbody>\n",
       "    <tr>\n",
       "      <th>0</th>\n",
       "      <td>0.249239</td>\n",
       "      <td>0.705268</td>\n",
       "      <td>0.585135</td>\n",
       "    </tr>\n",
       "    <tr>\n",
       "      <th>2</th>\n",
       "      <td>0.419793</td>\n",
       "      <td>0.959727</td>\n",
       "      <td>0.667112</td>\n",
       "    </tr>\n",
       "    <tr>\n",
       "      <th>3</th>\n",
       "      <td>0.160934</td>\n",
       "      <td>0.538150</td>\n",
       "      <td>0.240019</td>\n",
       "    </tr>\n",
       "    <tr>\n",
       "      <th>4</th>\n",
       "      <td>0.194763</td>\n",
       "      <td>0.300935</td>\n",
       "      <td>0.284339</td>\n",
       "    </tr>\n",
       "    <tr>\n",
       "      <th>5</th>\n",
       "      <td>0.375512</td>\n",
       "      <td>0.864990</td>\n",
       "      <td>0.916767</td>\n",
       "    </tr>\n",
       "    <tr>\n",
       "      <th>...</th>\n",
       "      <td>...</td>\n",
       "      <td>...</td>\n",
       "      <td>...</td>\n",
       "    </tr>\n",
       "    <tr>\n",
       "      <th>330</th>\n",
       "      <td>0.557649</td>\n",
       "      <td>0.749245</td>\n",
       "      <td>0.677820</td>\n",
       "    </tr>\n",
       "    <tr>\n",
       "      <th>331</th>\n",
       "      <td>0.659181</td>\n",
       "      <td>0.523440</td>\n",
       "      <td>0.486447</td>\n",
       "    </tr>\n",
       "    <tr>\n",
       "      <th>332</th>\n",
       "      <td>0.973064</td>\n",
       "      <td>0.027224</td>\n",
       "      <td>0.767961</td>\n",
       "    </tr>\n",
       "    <tr>\n",
       "      <th>333</th>\n",
       "      <td>0.715706</td>\n",
       "      <td>0.810588</td>\n",
       "      <td>0.326163</td>\n",
       "    </tr>\n",
       "    <tr>\n",
       "      <th>334</th>\n",
       "      <td>0.413026</td>\n",
       "      <td>0.082499</td>\n",
       "      <td>0.525288</td>\n",
       "    </tr>\n",
       "  </tbody>\n",
       "</table>\n",
       "<p>334 rows × 3 columns</p>\n",
       "</div>"
      ],
      "text/plain": [
       "            B         D         E\n",
       "0    0.249239  0.705268  0.585135\n",
       "2    0.419793  0.959727  0.667112\n",
       "3    0.160934  0.538150  0.240019\n",
       "4    0.194763  0.300935  0.284339\n",
       "5    0.375512  0.864990  0.916767\n",
       "..        ...       ...       ...\n",
       "330  0.557649  0.749245  0.677820\n",
       "331  0.659181  0.523440  0.486447\n",
       "332  0.973064  0.027224  0.767961\n",
       "333  0.715706  0.810588  0.326163\n",
       "334  0.413026  0.082499  0.525288\n",
       "\n",
       "[334 rows x 3 columns]"
      ]
     },
     "execution_count": 136,
     "metadata": {},
     "output_type": "execute_result"
    }
   ],
   "source": [
    "df.drop(['A','C'], axis=1)"
   ]
  },
  {
   "cell_type": "code",
   "execution_count": 137,
   "id": "f9787da9-bfdb-4695-9bcf-12a2c592698a",
   "metadata": {},
   "outputs": [
    {
     "data": {
      "text/html": [
       "<div>\n",
       "<style scoped>\n",
       "    .dataframe tbody tr th:only-of-type {\n",
       "        vertical-align: middle;\n",
       "    }\n",
       "\n",
       "    .dataframe tbody tr th {\n",
       "        vertical-align: top;\n",
       "    }\n",
       "\n",
       "    .dataframe thead th {\n",
       "        text-align: right;\n",
       "    }\n",
       "</style>\n",
       "<table border=\"1\" class=\"dataframe\">\n",
       "  <thead>\n",
       "    <tr style=\"text-align: right;\">\n",
       "      <th></th>\n",
       "      <th>A</th>\n",
       "      <th>B</th>\n",
       "      <th>C</th>\n",
       "      <th>D</th>\n",
       "      <th>E</th>\n",
       "    </tr>\n",
       "  </thead>\n",
       "  <tbody>\n",
       "    <tr>\n",
       "      <th>0</th>\n",
       "      <td>0.125</td>\n",
       "      <td>0.249239</td>\n",
       "      <td>0.210232</td>\n",
       "      <td>0.705268</td>\n",
       "      <td>0.585135</td>\n",
       "    </tr>\n",
       "    <tr>\n",
       "      <th>2</th>\n",
       "      <td>0.179324</td>\n",
       "      <td>0.419793</td>\n",
       "      <td>0.618058</td>\n",
       "      <td>0.959727</td>\n",
       "      <td>0.667112</td>\n",
       "    </tr>\n",
       "    <tr>\n",
       "      <th>3</th>\n",
       "      <td>0.898675</td>\n",
       "      <td>0.160934</td>\n",
       "      <td>0.245006</td>\n",
       "      <td>0.538150</td>\n",
       "      <td>0.240019</td>\n",
       "    </tr>\n",
       "  </tbody>\n",
       "</table>\n",
       "</div>"
      ],
      "text/plain": [
       "          A         B         C         D         E\n",
       "0     0.125  0.249239  0.210232  0.705268  0.585135\n",
       "2  0.179324  0.419793  0.618058  0.959727  0.667112\n",
       "3  0.898675  0.160934  0.245006  0.538150  0.240019"
      ]
     },
     "execution_count": 137,
     "metadata": {},
     "output_type": "execute_result"
    }
   ],
   "source": [
    "df.head(3)"
   ]
  },
  {
   "cell_type": "code",
   "execution_count": 140,
   "id": "f4617104-e197-4a74-ae7a-8de43fa41a47",
   "metadata": {},
   "outputs": [],
   "source": [
    "df.reset_index(drop=True, inplace=True)"
   ]
  },
  {
   "cell_type": "code",
   "execution_count": 142,
   "id": "6b67d800-d98b-426d-becb-f08d2c880a93",
   "metadata": {},
   "outputs": [
    {
     "data": {
      "text/html": [
       "<div>\n",
       "<style scoped>\n",
       "    .dataframe tbody tr th:only-of-type {\n",
       "        vertical-align: middle;\n",
       "    }\n",
       "\n",
       "    .dataframe tbody tr th {\n",
       "        vertical-align: top;\n",
       "    }\n",
       "\n",
       "    .dataframe thead th {\n",
       "        text-align: right;\n",
       "    }\n",
       "</style>\n",
       "<table border=\"1\" class=\"dataframe\">\n",
       "  <thead>\n",
       "    <tr style=\"text-align: right;\">\n",
       "      <th></th>\n",
       "      <th>A</th>\n",
       "      <th>B</th>\n",
       "      <th>C</th>\n",
       "      <th>D</th>\n",
       "      <th>E</th>\n",
       "    </tr>\n",
       "  </thead>\n",
       "  <tbody>\n",
       "    <tr>\n",
       "      <th>0</th>\n",
       "      <td>0.125</td>\n",
       "      <td>0.249239</td>\n",
       "      <td>0.210232</td>\n",
       "      <td>0.705268</td>\n",
       "      <td>0.585135</td>\n",
       "    </tr>\n",
       "    <tr>\n",
       "      <th>1</th>\n",
       "      <td>0.179324</td>\n",
       "      <td>0.419793</td>\n",
       "      <td>0.618058</td>\n",
       "      <td>0.959727</td>\n",
       "      <td>0.667112</td>\n",
       "    </tr>\n",
       "    <tr>\n",
       "      <th>2</th>\n",
       "      <td>0.898675</td>\n",
       "      <td>0.160934</td>\n",
       "      <td>0.245006</td>\n",
       "      <td>0.538150</td>\n",
       "      <td>0.240019</td>\n",
       "    </tr>\n",
       "  </tbody>\n",
       "</table>\n",
       "</div>"
      ],
      "text/plain": [
       "          A         B         C         D         E\n",
       "0     0.125  0.249239  0.210232  0.705268  0.585135\n",
       "1  0.179324  0.419793  0.618058  0.959727  0.667112\n",
       "2  0.898675  0.160934  0.245006  0.538150  0.240019"
      ]
     },
     "execution_count": 142,
     "metadata": {},
     "output_type": "execute_result"
    }
   ],
   "source": [
    "df.head(3)"
   ]
  },
  {
   "cell_type": "code",
   "execution_count": 146,
   "id": "88463f43-bfd0-4507-a3e8-b0f88ecf6a62",
   "metadata": {},
   "outputs": [
    {
     "data": {
      "text/html": [
       "<div>\n",
       "<style scoped>\n",
       "    .dataframe tbody tr th:only-of-type {\n",
       "        vertical-align: middle;\n",
       "    }\n",
       "\n",
       "    .dataframe tbody tr th {\n",
       "        vertical-align: top;\n",
       "    }\n",
       "\n",
       "    .dataframe thead th {\n",
       "        text-align: right;\n",
       "    }\n",
       "</style>\n",
       "<table border=\"1\" class=\"dataframe\">\n",
       "  <thead>\n",
       "    <tr style=\"text-align: right;\">\n",
       "      <th></th>\n",
       "      <th>index</th>\n",
       "      <th>A</th>\n",
       "      <th>B</th>\n",
       "      <th>C</th>\n",
       "      <th>D</th>\n",
       "      <th>E</th>\n",
       "    </tr>\n",
       "  </thead>\n",
       "  <tbody>\n",
       "    <tr>\n",
       "      <th>0</th>\n",
       "      <td>3</td>\n",
       "      <td>0.898675</td>\n",
       "      <td>0.160934</td>\n",
       "      <td>0.245006</td>\n",
       "      <td>0.538150</td>\n",
       "      <td>0.240019</td>\n",
       "    </tr>\n",
       "    <tr>\n",
       "      <th>1</th>\n",
       "      <td>4</td>\n",
       "      <td>0.769776</td>\n",
       "      <td>0.194763</td>\n",
       "      <td>0.779606</td>\n",
       "      <td>0.300935</td>\n",
       "      <td>0.284339</td>\n",
       "    </tr>\n",
       "    <tr>\n",
       "      <th>2</th>\n",
       "      <td>5</td>\n",
       "      <td>0.502597</td>\n",
       "      <td>0.375512</td>\n",
       "      <td>0.251439</td>\n",
       "      <td>0.864990</td>\n",
       "      <td>0.916767</td>\n",
       "    </tr>\n",
       "    <tr>\n",
       "      <th>3</th>\n",
       "      <td>6</td>\n",
       "      <td>0.810259</td>\n",
       "      <td>0.412173</td>\n",
       "      <td>0.578443</td>\n",
       "      <td>0.061936</td>\n",
       "      <td>0.838435</td>\n",
       "    </tr>\n",
       "    <tr>\n",
       "      <th>4</th>\n",
       "      <td>7</td>\n",
       "      <td>0.724307</td>\n",
       "      <td>0.806065</td>\n",
       "      <td>0.076488</td>\n",
       "      <td>0.339647</td>\n",
       "      <td>0.030609</td>\n",
       "    </tr>\n",
       "  </tbody>\n",
       "</table>\n",
       "</div>"
      ],
      "text/plain": [
       "   index         A         B         C         D         E\n",
       "0      3  0.898675  0.160934  0.245006  0.538150  0.240019\n",
       "1      4  0.769776  0.194763  0.779606  0.300935  0.284339\n",
       "2      5  0.502597  0.375512  0.251439  0.864990  0.916767\n",
       "3      6  0.810259  0.412173  0.578443  0.061936  0.838435\n",
       "4      7  0.724307  0.806065  0.076488  0.339647  0.030609"
      ]
     },
     "execution_count": 146,
     "metadata": {},
     "output_type": "execute_result"
    }
   ],
   "source": [
    "df1.reset_index().head(5)"
   ]
  },
  {
   "cell_type": "code",
   "execution_count": 149,
   "id": "bc1aa08f-d394-4b7f-ab0c-55b61fbe7844",
   "metadata": {},
   "outputs": [],
   "source": [
    "df1.reset_index(drop=True, inplace=True)"
   ]
  },
  {
   "cell_type": "code",
   "execution_count": 150,
   "id": "20bb08ee-7cda-4b18-b813-dff9de598ffb",
   "metadata": {},
   "outputs": [
    {
     "data": {
      "text/html": [
       "<div>\n",
       "<style scoped>\n",
       "    .dataframe tbody tr th:only-of-type {\n",
       "        vertical-align: middle;\n",
       "    }\n",
       "\n",
       "    .dataframe tbody tr th {\n",
       "        vertical-align: top;\n",
       "    }\n",
       "\n",
       "    .dataframe thead th {\n",
       "        text-align: right;\n",
       "    }\n",
       "</style>\n",
       "<table border=\"1\" class=\"dataframe\">\n",
       "  <thead>\n",
       "    <tr style=\"text-align: right;\">\n",
       "      <th></th>\n",
       "      <th>A</th>\n",
       "      <th>B</th>\n",
       "      <th>C</th>\n",
       "      <th>D</th>\n",
       "      <th>E</th>\n",
       "    </tr>\n",
       "  </thead>\n",
       "  <tbody>\n",
       "    <tr>\n",
       "      <th>0</th>\n",
       "      <td>0.898675</td>\n",
       "      <td>0.160934</td>\n",
       "      <td>0.245006</td>\n",
       "      <td>0.538150</td>\n",
       "      <td>0.240019</td>\n",
       "    </tr>\n",
       "    <tr>\n",
       "      <th>1</th>\n",
       "      <td>0.769776</td>\n",
       "      <td>0.194763</td>\n",
       "      <td>0.779606</td>\n",
       "      <td>0.300935</td>\n",
       "      <td>0.284339</td>\n",
       "    </tr>\n",
       "    <tr>\n",
       "      <th>2</th>\n",
       "      <td>0.502597</td>\n",
       "      <td>0.375512</td>\n",
       "      <td>0.251439</td>\n",
       "      <td>0.864990</td>\n",
       "      <td>0.916767</td>\n",
       "    </tr>\n",
       "    <tr>\n",
       "      <th>3</th>\n",
       "      <td>0.810259</td>\n",
       "      <td>0.412173</td>\n",
       "      <td>0.578443</td>\n",
       "      <td>0.061936</td>\n",
       "      <td>0.838435</td>\n",
       "    </tr>\n",
       "    <tr>\n",
       "      <th>4</th>\n",
       "      <td>0.724307</td>\n",
       "      <td>0.806065</td>\n",
       "      <td>0.076488</td>\n",
       "      <td>0.339647</td>\n",
       "      <td>0.030609</td>\n",
       "    </tr>\n",
       "  </tbody>\n",
       "</table>\n",
       "</div>"
      ],
      "text/plain": [
       "          A         B         C         D         E\n",
       "0  0.898675  0.160934  0.245006  0.538150  0.240019\n",
       "1  0.769776  0.194763  0.779606  0.300935  0.284339\n",
       "2  0.502597  0.375512  0.251439  0.864990  0.916767\n",
       "3  0.810259  0.412173  0.578443  0.061936  0.838435\n",
       "4  0.724307  0.806065  0.076488  0.339647  0.030609"
      ]
     },
     "execution_count": 150,
     "metadata": {},
     "output_type": "execute_result"
    }
   ],
   "source": [
    "df1.head(5)"
   ]
  },
  {
   "cell_type": "code",
   "execution_count": 159,
   "id": "a12e5e54-dc1e-4330-bcd8-0af74f37ee8b",
   "metadata": {},
   "outputs": [],
   "source": [
    "df.loc[ 5:, ['B']] = None"
   ]
  },
  {
   "cell_type": "code",
   "execution_count": 160,
   "id": "1a7281cd-8832-4b11-a4dc-fb80171b1091",
   "metadata": {},
   "outputs": [
    {
     "data": {
      "text/html": [
       "<div>\n",
       "<style scoped>\n",
       "    .dataframe tbody tr th:only-of-type {\n",
       "        vertical-align: middle;\n",
       "    }\n",
       "\n",
       "    .dataframe tbody tr th {\n",
       "        vertical-align: top;\n",
       "    }\n",
       "\n",
       "    .dataframe thead th {\n",
       "        text-align: right;\n",
       "    }\n",
       "</style>\n",
       "<table border=\"1\" class=\"dataframe\">\n",
       "  <thead>\n",
       "    <tr style=\"text-align: right;\">\n",
       "      <th></th>\n",
       "      <th>A</th>\n",
       "      <th>B</th>\n",
       "      <th>C</th>\n",
       "      <th>D</th>\n",
       "      <th>E</th>\n",
       "    </tr>\n",
       "  </thead>\n",
       "  <tbody>\n",
       "    <tr>\n",
       "      <th>0</th>\n",
       "      <td>0.125</td>\n",
       "      <td>56</td>\n",
       "      <td>0.210232</td>\n",
       "      <td>0.705268</td>\n",
       "      <td>0.585135</td>\n",
       "    </tr>\n",
       "    <tr>\n",
       "      <th>1</th>\n",
       "      <td>0.179324</td>\n",
       "      <td>56</td>\n",
       "      <td>0.618058</td>\n",
       "      <td>0.959727</td>\n",
       "      <td>0.667112</td>\n",
       "    </tr>\n",
       "  </tbody>\n",
       "</table>\n",
       "</div>"
      ],
      "text/plain": [
       "          A   B         C         D         E\n",
       "0     0.125  56  0.210232  0.705268  0.585135\n",
       "1  0.179324  56  0.618058  0.959727  0.667112"
      ]
     },
     "execution_count": 160,
     "metadata": {},
     "output_type": "execute_result"
    }
   ],
   "source": [
    "df.head(2)"
   ]
  },
  {
   "cell_type": "code",
   "execution_count": 161,
   "id": "d0d36f88-6d82-4813-860e-f456b1003bc5",
   "metadata": {},
   "outputs": [
    {
     "data": {
      "text/plain": [
       "0      False\n",
       "1      False\n",
       "2      False\n",
       "3      False\n",
       "4      False\n",
       "       ...  \n",
       "329     True\n",
       "330     True\n",
       "331     True\n",
       "332     True\n",
       "333     True\n",
       "Name: B, Length: 334, dtype: bool"
      ]
     },
     "execution_count": 161,
     "metadata": {},
     "output_type": "execute_result"
    }
   ],
   "source": [
    "df.B.isnull()"
   ]
  },
  {
   "cell_type": "code",
   "execution_count": 187,
   "id": "8f93a2e6-6125-401b-a6ba-050e24156bc1",
   "metadata": {},
   "outputs": [],
   "source": [
    "d1 = {\n",
    "      'Name':['Uzer','Bilal','Nahyan','Arfat','Shadab','Farhan','Anas','Uzer'],\n",
    "      'A': [1, 2, 3, 2, 4, 5, 3, 8], \n",
    "      'B': [5, 6, 9, 2, 8, 7, 6, 8,]\n",
    "     }"
   ]
  },
  {
   "cell_type": "code",
   "execution_count": 188,
   "id": "1c50188c-ac42-4343-8bdb-8481d2e4665f",
   "metadata": {},
   "outputs": [],
   "source": [
    "num = pd.DataFrame(d1)"
   ]
  },
  {
   "cell_type": "code",
   "execution_count": 189,
   "id": "2442fef3-753c-470e-9ccb-4d4c4beb3e43",
   "metadata": {},
   "outputs": [
    {
     "data": {
      "text/html": [
       "<div>\n",
       "<style scoped>\n",
       "    .dataframe tbody tr th:only-of-type {\n",
       "        vertical-align: middle;\n",
       "    }\n",
       "\n",
       "    .dataframe tbody tr th {\n",
       "        vertical-align: top;\n",
       "    }\n",
       "\n",
       "    .dataframe thead th {\n",
       "        text-align: right;\n",
       "    }\n",
       "</style>\n",
       "<table border=\"1\" class=\"dataframe\">\n",
       "  <thead>\n",
       "    <tr style=\"text-align: right;\">\n",
       "      <th></th>\n",
       "      <th>Name</th>\n",
       "      <th>A</th>\n",
       "      <th>B</th>\n",
       "    </tr>\n",
       "  </thead>\n",
       "  <tbody>\n",
       "    <tr>\n",
       "      <th>0</th>\n",
       "      <td>Uzer</td>\n",
       "      <td>1</td>\n",
       "      <td>5</td>\n",
       "    </tr>\n",
       "    <tr>\n",
       "      <th>3</th>\n",
       "      <td>Arfat</td>\n",
       "      <td>2</td>\n",
       "      <td>2</td>\n",
       "    </tr>\n",
       "    <tr>\n",
       "      <th>4</th>\n",
       "      <td>Shadab</td>\n",
       "      <td>4</td>\n",
       "      <td>8</td>\n",
       "    </tr>\n",
       "    <tr>\n",
       "      <th>5</th>\n",
       "      <td>Farhan</td>\n",
       "      <td>5</td>\n",
       "      <td>7</td>\n",
       "    </tr>\n",
       "    <tr>\n",
       "      <th>6</th>\n",
       "      <td>Anas</td>\n",
       "      <td>3</td>\n",
       "      <td>6</td>\n",
       "    </tr>\n",
       "    <tr>\n",
       "      <th>7</th>\n",
       "      <td>Uzer</td>\n",
       "      <td>8</td>\n",
       "      <td>8</td>\n",
       "    </tr>\n",
       "  </tbody>\n",
       "</table>\n",
       "</div>"
      ],
      "text/plain": [
       "     Name  A  B\n",
       "0    Uzer  1  5\n",
       "3   Arfat  2  2\n",
       "4  Shadab  4  8\n",
       "5  Farhan  5  7\n",
       "6    Anas  3  6\n",
       "7    Uzer  8  8"
      ]
     },
     "execution_count": 189,
     "metadata": {},
     "output_type": "execute_result"
    }
   ],
   "source": [
    "num.drop_duplicates(subset=['A'], keep=\"last\")"
   ]
  },
  {
   "cell_type": "code",
   "execution_count": 190,
   "id": "fa51dac2-efeb-4b9a-b12e-078b928c32ad",
   "metadata": {},
   "outputs": [
    {
     "data": {
      "text/html": [
       "<div>\n",
       "<style scoped>\n",
       "    .dataframe tbody tr th:only-of-type {\n",
       "        vertical-align: middle;\n",
       "    }\n",
       "\n",
       "    .dataframe tbody tr th {\n",
       "        vertical-align: top;\n",
       "    }\n",
       "\n",
       "    .dataframe thead th {\n",
       "        text-align: right;\n",
       "    }\n",
       "</style>\n",
       "<table border=\"1\" class=\"dataframe\">\n",
       "  <thead>\n",
       "    <tr style=\"text-align: right;\">\n",
       "      <th></th>\n",
       "      <th>Name</th>\n",
       "      <th>A</th>\n",
       "      <th>B</th>\n",
       "    </tr>\n",
       "  </thead>\n",
       "  <tbody>\n",
       "    <tr>\n",
       "      <th>0</th>\n",
       "      <td>Uzer</td>\n",
       "      <td>1</td>\n",
       "      <td>5</td>\n",
       "    </tr>\n",
       "    <tr>\n",
       "      <th>1</th>\n",
       "      <td>Bilal</td>\n",
       "      <td>2</td>\n",
       "      <td>6</td>\n",
       "    </tr>\n",
       "    <tr>\n",
       "      <th>2</th>\n",
       "      <td>Nahyan</td>\n",
       "      <td>3</td>\n",
       "      <td>9</td>\n",
       "    </tr>\n",
       "    <tr>\n",
       "      <th>3</th>\n",
       "      <td>Arfat</td>\n",
       "      <td>2</td>\n",
       "      <td>2</td>\n",
       "    </tr>\n",
       "    <tr>\n",
       "      <th>4</th>\n",
       "      <td>Shadab</td>\n",
       "      <td>4</td>\n",
       "      <td>8</td>\n",
       "    </tr>\n",
       "    <tr>\n",
       "      <th>5</th>\n",
       "      <td>Farhan</td>\n",
       "      <td>5</td>\n",
       "      <td>7</td>\n",
       "    </tr>\n",
       "    <tr>\n",
       "      <th>6</th>\n",
       "      <td>Anas</td>\n",
       "      <td>3</td>\n",
       "      <td>6</td>\n",
       "    </tr>\n",
       "    <tr>\n",
       "      <th>7</th>\n",
       "      <td>Uzer</td>\n",
       "      <td>8</td>\n",
       "      <td>8</td>\n",
       "    </tr>\n",
       "  </tbody>\n",
       "</table>\n",
       "</div>"
      ],
      "text/plain": [
       "     Name  A  B\n",
       "0    Uzer  1  5\n",
       "1   Bilal  2  6\n",
       "2  Nahyan  3  9\n",
       "3   Arfat  2  2\n",
       "4  Shadab  4  8\n",
       "5  Farhan  5  7\n",
       "6    Anas  3  6\n",
       "7    Uzer  8  8"
      ]
     },
     "execution_count": 190,
     "metadata": {},
     "output_type": "execute_result"
    }
   ],
   "source": [
    "num"
   ]
  },
  {
   "cell_type": "code",
   "execution_count": 191,
   "id": "7291e882-af3e-451c-9b20-2b89c2705759",
   "metadata": {},
   "outputs": [
    {
     "data": {
      "text/html": [
       "<div>\n",
       "<style scoped>\n",
       "    .dataframe tbody tr th:only-of-type {\n",
       "        vertical-align: middle;\n",
       "    }\n",
       "\n",
       "    .dataframe tbody tr th {\n",
       "        vertical-align: top;\n",
       "    }\n",
       "\n",
       "    .dataframe thead th {\n",
       "        text-align: right;\n",
       "    }\n",
       "</style>\n",
       "<table border=\"1\" class=\"dataframe\">\n",
       "  <thead>\n",
       "    <tr style=\"text-align: right;\">\n",
       "      <th></th>\n",
       "      <th>Name</th>\n",
       "      <th>A</th>\n",
       "      <th>B</th>\n",
       "    </tr>\n",
       "  </thead>\n",
       "  <tbody>\n",
       "    <tr>\n",
       "      <th>0</th>\n",
       "      <td>Uzer</td>\n",
       "      <td>1</td>\n",
       "      <td>5</td>\n",
       "    </tr>\n",
       "    <tr>\n",
       "      <th>1</th>\n",
       "      <td>Bilal</td>\n",
       "      <td>2</td>\n",
       "      <td>6</td>\n",
       "    </tr>\n",
       "    <tr>\n",
       "      <th>2</th>\n",
       "      <td>Nahyan</td>\n",
       "      <td>3</td>\n",
       "      <td>9</td>\n",
       "    </tr>\n",
       "    <tr>\n",
       "      <th>3</th>\n",
       "      <td>Arfat</td>\n",
       "      <td>2</td>\n",
       "      <td>2</td>\n",
       "    </tr>\n",
       "    <tr>\n",
       "      <th>4</th>\n",
       "      <td>Shadab</td>\n",
       "      <td>4</td>\n",
       "      <td>8</td>\n",
       "    </tr>\n",
       "    <tr>\n",
       "      <th>5</th>\n",
       "      <td>Farhan</td>\n",
       "      <td>5</td>\n",
       "      <td>7</td>\n",
       "    </tr>\n",
       "  </tbody>\n",
       "</table>\n",
       "</div>"
      ],
      "text/plain": [
       "     Name  A  B\n",
       "0    Uzer  1  5\n",
       "1   Bilal  2  6\n",
       "2  Nahyan  3  9\n",
       "3   Arfat  2  2\n",
       "4  Shadab  4  8\n",
       "5  Farhan  5  7"
      ]
     },
     "execution_count": 191,
     "metadata": {},
     "output_type": "execute_result"
    }
   ],
   "source": [
    "num.drop_duplicates(subset=['B'])"
   ]
  },
  {
   "cell_type": "code",
   "execution_count": 192,
   "id": "f8b78584-b50e-4fcb-bcda-10a15927779e",
   "metadata": {},
   "outputs": [
    {
     "name": "stdout",
     "output_type": "stream",
     "text": [
      "<class 'pandas.core.frame.DataFrame'>\n",
      "RangeIndex: 8 entries, 0 to 7\n",
      "Data columns (total 3 columns):\n",
      " #   Column  Non-Null Count  Dtype \n",
      "---  ------  --------------  ----- \n",
      " 0   Name    8 non-null      object\n",
      " 1   A       8 non-null      int64 \n",
      " 2   B       8 non-null      int64 \n",
      "dtypes: int64(2), object(1)\n",
      "memory usage: 324.0+ bytes\n"
     ]
    }
   ],
   "source": [
    "num.info()"
   ]
  },
  {
   "cell_type": "code",
   "execution_count": 193,
   "id": "dbf6173d-754e-47bc-aca0-2968d0189d52",
   "metadata": {},
   "outputs": [
    {
     "name": "stdout",
     "output_type": "stream",
     "text": [
      "<class 'pandas.core.frame.DataFrame'>\n",
      "RangeIndex: 334 entries, 0 to 333\n",
      "Data columns (total 5 columns):\n",
      " #   Column  Non-Null Count  Dtype  \n",
      "---  ------  --------------  -----  \n",
      " 0   A       334 non-null    object \n",
      " 1   B       5 non-null      object \n",
      " 2   C       334 non-null    float64\n",
      " 3   D       334 non-null    float64\n",
      " 4   E       334 non-null    float64\n",
      "dtypes: float64(3), object(2)\n",
      "memory usage: 13.2+ KB\n"
     ]
    }
   ],
   "source": [
    "df.info()"
   ]
  },
  {
   "cell_type": "code",
   "execution_count": 195,
   "id": "0c21190c-d2d3-476c-a6bb-851d1f1399ef",
   "metadata": {},
   "outputs": [
    {
     "data": {
      "text/plain": [
       "B\n",
       "6    2\n",
       "8    2\n",
       "5    1\n",
       "9    1\n",
       "2    1\n",
       "7    1\n",
       "Name: count, dtype: int64"
      ]
     },
     "execution_count": 195,
     "metadata": {},
     "output_type": "execute_result"
    }
   ],
   "source": [
    "num.B.value_counts()"
   ]
  },
  {
   "cell_type": "code",
   "execution_count": 196,
   "id": "5f0c269a-7609-4fb4-bd79-434f79dc50fc",
   "metadata": {},
   "outputs": [
    {
     "data": {
      "text/plain": [
       "A\n",
       "2    2\n",
       "3    2\n",
       "1    1\n",
       "4    1\n",
       "5    1\n",
       "8    1\n",
       "Name: count, dtype: int64"
      ]
     },
     "execution_count": 196,
     "metadata": {},
     "output_type": "execute_result"
    }
   ],
   "source": [
    "num.A.value_counts()"
   ]
  },
  {
   "cell_type": "code",
   "execution_count": 197,
   "id": "438912b6-eb58-46b9-b91e-065f2ed1bba2",
   "metadata": {},
   "outputs": [
    {
     "data": {
      "text/plain": [
       "Name\n",
       "Uzer      2\n",
       "Bilal     1\n",
       "Nahyan    1\n",
       "Arfat     1\n",
       "Shadab    1\n",
       "Farhan    1\n",
       "Anas      1\n",
       "Name: count, dtype: int64"
      ]
     },
     "execution_count": 197,
     "metadata": {},
     "output_type": "execute_result"
    }
   ],
   "source": [
    "num.Name.value_counts()"
   ]
  },
  {
   "cell_type": "code",
   "execution_count": 202,
   "id": "1cb56a64-07ea-41b2-bc02-d874f012ea43",
   "metadata": {},
   "outputs": [],
   "source": [
    "arr = num.Name.unique()"
   ]
  },
  {
   "cell_type": "code",
   "execution_count": 207,
   "id": "62166cde-874f-4965-9c38-77aa9f6e2684",
   "metadata": {},
   "outputs": [
    {
     "data": {
      "text/plain": [
       "array(['Uzer', 'Bilal', 'Nahyan', 'Arfat', 'Shadab', 'Farhan', 'Anas'],\n",
       "      dtype=object)"
      ]
     },
     "execution_count": 207,
     "metadata": {},
     "output_type": "execute_result"
    }
   ],
   "source": [
    "arr"
   ]
  },
  {
   "cell_type": "code",
   "execution_count": null,
   "id": "9d0f2654-8551-4ae4-9b14-b315f8e94a54",
   "metadata": {},
   "outputs": [],
   "source": []
  }
 ],
 "metadata": {
  "kernelspec": {
   "display_name": "Python 3 (ipykernel)",
   "language": "python",
   "name": "python3"
  },
  "language_info": {
   "codemirror_mode": {
    "name": "ipython",
    "version": 3
   },
   "file_extension": ".py",
   "mimetype": "text/x-python",
   "name": "python",
   "nbconvert_exporter": "python",
   "pygments_lexer": "ipython3",
   "version": "3.12.0"
  }
 },
 "nbformat": 4,
 "nbformat_minor": 5
}
